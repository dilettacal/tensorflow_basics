{
 "cells": [
  {
   "cell_type": "markdown",
   "metadata": {},
   "source": [
    "# Neural Networks\n",
    "\n",
    "- More neurons (linear regressors)\n",
    "- Features are the different inputs to the network\n",
    "- Goal: Find the correlation between those features\n",
    "- Optimization: Gradient Descent\n",
    "- Learning: Backpropagation\n",
    "- Weight Initialization:\n",
    "    - Zeros: All the same computations - no learning\n",
    "    - Xavier :-)"
   ]
  },
  {
   "cell_type": "markdown",
   "metadata": {},
   "source": [
    "## Fashion-MNIST Project with FFNs\n",
    "\n",
    "- 10 categories (t-shirt, pullover, dress, bag, ...)\n",
    "- Each image is 28x28 pixels\n",
    "\n",
    "\n",
    "Network:\n",
    "- Input: (784,1)\n",
    "- Hidden-Layer: e.g. 100 neurons\n",
    "- Output-Layer: 1 neuron"
   ]
  },
  {
   "cell_type": "markdown",
   "metadata": {},
   "source": [
    "### Helpers"
   ]
  },
  {
   "cell_type": "code",
   "execution_count": 2,
   "metadata": {},
   "outputs": [],
   "source": [
    "# http://yann.lecun.com/exdb/mnist/\n",
    "# FashionMNIST: https://github.com/zalandoresearch/fashion-mnist\n",
    "\n",
    "import gzip\n",
    "import numpy as np\n",
    "\n",
    "def open_images(filename):\n",
    "    with gzip.open(filename, \"rb\") as file:\n",
    "        data = file.read()\n",
    "        return np.frombuffer(data, dtype=np.uint8, offset=16)\\\n",
    "            .reshape(-1, 28, 28)\\\n",
    "            .astype(np.float32)\n",
    "\n",
    "\n",
    "def open_labels(filename):\n",
    "    with gzip.open(filename, \"rb\") as file:\n",
    "        data = file.read()\n",
    "        return np.frombuffer(data, dtype=np.uint8, offset=8)"
   ]
  },
  {
   "cell_type": "code",
   "execution_count": 4,
   "metadata": {},
   "outputs": [],
   "source": [
    "X_train = open_images(\"./data/fashion/train-images-idx3-ubyte.gz\")"
   ]
  },
  {
   "cell_type": "code",
   "execution_count": 5,
   "metadata": {},
   "outputs": [
    {
     "data": {
      "text/plain": [
       "(60000, 28, 28)"
      ]
     },
     "execution_count": 5,
     "metadata": {},
     "output_type": "execute_result"
    }
   ],
   "source": [
    "X_train.shape"
   ]
  },
  {
   "cell_type": "code",
   "execution_count": 12,
   "metadata": {},
   "outputs": [
    {
     "data": {
      "image/png": "[encoded data removed]",
      "text/plain": [
       "<Figure size 432x288 with 1 Axes>"
      ]
     },
     "metadata": {
      "needs_background": "light"
     },
     "output_type": "display_data"
    }
   ],
   "source": [
    "%matplotlib inline\n",
    "import matplotlib.pyplot as plt\n",
    "\n",
    "plt.imshow(X_train[3], cmap=\"gray_r\")\n",
    "plt.show()"
   ]
  },
  {
   "cell_type": "code",
   "execution_count": 8,
   "metadata": {},
   "outputs": [],
   "source": [
    "# Fashion-MNIST: https://github.com/zalandoresearch/fashion-mnist\n",
    "y_train = open_labels(\"./data/fashion/train-labels-idx1-ubyte.gz\")"
   ]
  },
  {
   "cell_type": "code",
   "execution_count": 11,
   "metadata": {},
   "outputs": [
    {
     "data": {
      "text/plain": [
       "3"
      ]
     },
     "execution_count": 11,
     "metadata": {},
     "output_type": "execute_result"
    }
   ],
   "source": [
    "y_train[3]"
   ]
  },
  {
   "cell_type": "markdown",
   "metadata": {},
   "source": [
    "## Model Creation (KERAS)\n",
    "\n",
    "- Classification: Is it a t-shirt or not?"
   ]
  },
  {
   "cell_type": "code",
   "execution_count": 35,
   "metadata": {},
   "outputs": [],
   "source": [
    "X_train = open_images(\"./data/fashion/train-images-idx3-ubyte.gz\")"
   ]
  },
  {
   "cell_type": "code",
   "execution_count": 36,
   "metadata": {},
   "outputs": [],
   "source": [
    "# Fashion-MNIST: https://github.com/zalandoresearch/fashion-mnist\n",
    "y_train = open_labels(\"./data/fashion/train-labels-idx1-ubyte.gz\")"
   ]
  },
  {
   "cell_type": "code",
   "execution_count": 37,
   "metadata": {},
   "outputs": [],
   "source": [
    "y_train = y_train == 0"
   ]
  },
  {
   "cell_type": "code",
   "execution_count": 38,
   "metadata": {},
   "outputs": [
    {
     "data": {
      "text/plain": [
       "array([False,  True,  True, ..., False,  True, False])"
      ]
     },
     "execution_count": 38,
     "metadata": {},
     "output_type": "execute_result"
    }
   ],
   "source": [
    "y_train"
   ]
  },
  {
   "cell_type": "code",
   "execution_count": 13,
   "metadata": {},
   "outputs": [],
   "source": [
    "from keras.models import Sequential\n",
    "from keras.layers import Dense"
   ]
  },
  {
   "cell_type": "code",
   "execution_count": 39,
   "metadata": {},
   "outputs": [],
   "source": [
    "model = Sequential()\n",
    "model.add(Dense(units=100, activation=\"sigmoid\",input_shape=(784,)))\n",
    "model.add(Dense(units=1, activation=\"sigmoid\"))\n",
    "\n",
    "model.compile(optimizer=\"sgd\", loss=\"binary_crossentropy\", metrics=[\"accuracy\"])"
   ]
  },
  {
   "cell_type": "code",
   "execution_count": 40,
   "metadata": {},
   "outputs": [
    {
     "data": {
      "text/plain": [
       "(60000, 28, 28)"
      ]
     },
     "execution_count": 40,
     "metadata": {},
     "output_type": "execute_result"
    }
   ],
   "source": [
    "X_train.shape # 784!"
   ]
  },
  {
   "cell_type": "code",
   "execution_count": 41,
   "metadata": {},
   "outputs": [],
   "source": [
    "X = X_train.reshape(-1, 28*28)"
   ]
  },
  {
   "cell_type": "code",
   "execution_count": 42,
   "metadata": {},
   "outputs": [
    {
     "data": {
      "text/plain": [
       "(60000, 784)"
      ]
     },
     "execution_count": 42,
     "metadata": {},
     "output_type": "execute_result"
    }
   ],
   "source": [
    "X.shape"
   ]
  },
  {
   "cell_type": "code",
   "execution_count": 43,
   "metadata": {},
   "outputs": [
    {
     "name": "stdout",
     "output_type": "stream",
     "text": [
      "Epoch 1/50\n",
      "60000/60000 [==============================] - 0s 6us/step - loss: 0.2925 - accuracy: 0.8845\n",
      "Epoch 2/50\n",
      "60000/60000 [==============================] - 0s 6us/step - loss: 0.1975 - accuracy: 0.9118\n",
      "Epoch 3/50\n",
      "60000/60000 [==============================] - 0s 6us/step - loss: 0.1695 - accuracy: 0.9385\n",
      "Epoch 4/50\n",
      "60000/60000 [==============================] - 0s 6us/step - loss: 0.1534 - accuracy: 0.9470\n",
      "Epoch 5/50\n",
      "60000/60000 [==============================] - 0s 5us/step - loss: 0.1426 - accuracy: 0.9511\n",
      "Epoch 6/50\n",
      "60000/60000 [==============================] - 0s 6us/step - loss: 0.1360 - accuracy: 0.9527\n",
      "Epoch 7/50\n",
      "60000/60000 [==============================] - 0s 6us/step - loss: 0.1312 - accuracy: 0.9534\n",
      "Epoch 8/50\n",
      "60000/60000 [==============================] - 0s 6us/step - loss: 0.1274 - accuracy: 0.9541\n",
      "Epoch 9/50\n",
      "60000/60000 [==============================] - 0s 6us/step - loss: 0.1243 - accuracy: 0.9549\n",
      "Epoch 10/50\n",
      "60000/60000 [==============================] - 0s 6us/step - loss: 0.1217 - accuracy: 0.9550\n",
      "Epoch 11/50\n",
      "60000/60000 [==============================] - 0s 6us/step - loss: 0.1197 - accuracy: 0.9549\n",
      "Epoch 12/50\n",
      "60000/60000 [==============================] - 0s 6us/step - loss: 0.1177 - accuracy: 0.9554\n",
      "Epoch 13/50\n",
      "60000/60000 [==============================] - 0s 6us/step - loss: 0.1160 - accuracy: 0.9554\n",
      "Epoch 14/50\n",
      "60000/60000 [==============================] - 0s 6us/step - loss: 0.1147 - accuracy: 0.9558\n",
      "Epoch 15/50\n",
      "60000/60000 [==============================] - 0s 6us/step - loss: 0.1134 - accuracy: 0.9563\n",
      "Epoch 16/50\n",
      "60000/60000 [==============================] - 0s 6us/step - loss: 0.1122 - accuracy: 0.9561\n",
      "Epoch 17/50\n",
      "60000/60000 [==============================] - 0s 6us/step - loss: 0.1111 - accuracy: 0.9565\n",
      "Epoch 18/50\n",
      "60000/60000 [==============================] - 0s 6us/step - loss: 0.1099 - accuracy: 0.9569\n",
      "Epoch 19/50\n",
      "60000/60000 [==============================] - 0s 6us/step - loss: 0.1088 - accuracy: 0.9571\n",
      "Epoch 20/50\n",
      "60000/60000 [==============================] - 0s 6us/step - loss: 0.1081 - accuracy: 0.9571\n",
      "Epoch 21/50\n",
      "60000/60000 [==============================] - 0s 6us/step - loss: 0.1071 - accuracy: 0.9578\n",
      "Epoch 22/50\n",
      "60000/60000 [==============================] - 0s 6us/step - loss: 0.1064 - accuracy: 0.9578\n",
      "Epoch 23/50\n",
      "60000/60000 [==============================] - 0s 6us/step - loss: 0.1057 - accuracy: 0.9579\n",
      "Epoch 24/50\n",
      "60000/60000 [==============================] - 0s 6us/step - loss: 0.1050 - accuracy: 0.9580\n",
      "Epoch 25/50\n",
      "60000/60000 [==============================] - 0s 6us/step - loss: 0.1044 - accuracy: 0.9580\n",
      "Epoch 26/50\n",
      "60000/60000 [==============================] - 0s 6us/step - loss: 0.1036 - accuracy: 0.9583\n",
      "Epoch 27/50\n",
      "60000/60000 [==============================] - 0s 6us/step - loss: 0.1031 - accuracy: 0.9584\n",
      "Epoch 28/50\n",
      "60000/60000 [==============================] - 0s 6us/step - loss: 0.1028 - accuracy: 0.9582\n",
      "Epoch 29/50\n",
      "60000/60000 [==============================] - 0s 6us/step - loss: 0.1022 - accuracy: 0.9589\n",
      "Epoch 30/50\n",
      "60000/60000 [==============================] - 0s 6us/step - loss: 0.1018 - accuracy: 0.9588\n",
      "Epoch 31/50\n",
      "60000/60000 [==============================] - 0s 6us/step - loss: 0.1009 - accuracy: 0.9591\n",
      "Epoch 32/50\n",
      "60000/60000 [==============================] - 0s 6us/step - loss: 0.1007 - accuracy: 0.9591\n",
      "Epoch 33/50\n",
      "60000/60000 [==============================] - 0s 6us/step - loss: 0.1006 - accuracy: 0.9590\n",
      "Epoch 34/50\n",
      "60000/60000 [==============================] - 0s 6us/step - loss: 0.0999 - accuracy: 0.9593\n",
      "Epoch 35/50\n",
      "60000/60000 [==============================] - 0s 6us/step - loss: 0.0992 - accuracy: 0.9598\n",
      "Epoch 36/50\n",
      "60000/60000 [==============================] - 0s 6us/step - loss: 0.0993 - accuracy: 0.9594\n",
      "Epoch 37/50\n",
      "60000/60000 [==============================] - 0s 6us/step - loss: 0.0985 - accuracy: 0.9599\n",
      "Epoch 38/50\n",
      "60000/60000 [==============================] - 0s 6us/step - loss: 0.0979 - accuracy: 0.9603\n",
      "Epoch 39/50\n",
      "60000/60000 [==============================] - 0s 6us/step - loss: 0.0976 - accuracy: 0.9601\n",
      "Epoch 40/50\n",
      "60000/60000 [==============================] - 0s 6us/step - loss: 0.0978 - accuracy: 0.9604\n",
      "Epoch 41/50\n",
      "60000/60000 [==============================] - 0s 6us/step - loss: 0.0968 - accuracy: 0.9605\n",
      "Epoch 42/50\n",
      "60000/60000 [==============================] - 0s 6us/step - loss: 0.0965 - accuracy: 0.9608\n",
      "Epoch 43/50\n",
      "60000/60000 [==============================] - 0s 6us/step - loss: 0.0960 - accuracy: 0.9606\n",
      "Epoch 44/50\n",
      "60000/60000 [==============================] - 0s 6us/step - loss: 0.0954 - accuracy: 0.9616\n",
      "Epoch 45/50\n",
      "60000/60000 [==============================] - 0s 6us/step - loss: 0.0951 - accuracy: 0.9611\n",
      "Epoch 46/50\n",
      "60000/60000 [==============================] - 0s 6us/step - loss: 0.0951 - accuracy: 0.9614\n",
      "Epoch 47/50\n",
      "60000/60000 [==============================] - 0s 6us/step - loss: 0.0945 - accuracy: 0.9611\n",
      "Epoch 48/50\n",
      "60000/60000 [==============================] - 0s 6us/step - loss: 0.0944 - accuracy: 0.9615\n",
      "Epoch 49/50\n",
      "60000/60000 [==============================] - 0s 6us/step - loss: 0.0943 - accuracy: 0.9615\n",
      "Epoch 50/50\n",
      "60000/60000 [==============================] - 0s 6us/step - loss: 0.0938 - accuracy: 0.9619\n"
     ]
    },
    {
     "data": {
      "text/plain": [
       "<keras.callbacks.callbacks.History at 0x1da1fb47648>"
      ]
     },
     "execution_count": 43,
     "metadata": {},
     "output_type": "execute_result"
    }
   ],
   "source": [
    "model.fit(X, y_train, epochs=50, batch_size=1000)"
   ]
  },
  {
   "cell_type": "code",
   "execution_count": 44,
   "metadata": {},
   "outputs": [
    {
     "name": "stdout",
     "output_type": "stream",
     "text": [
      "60000/60000 [==============================] - 1s 13us/step\n"
     ]
    },
    {
     "data": {
      "text/plain": [
       "[0.09376456985796491, 0.9617999792098999]"
      ]
     },
     "execution_count": 44,
     "metadata": {},
     "output_type": "execute_result"
    }
   ],
   "source": [
    "model.evaluate(X, y_train)"
   ]
  },
  {
   "cell_type": "code",
   "execution_count": 45,
   "metadata": {},
   "outputs": [
    {
     "name": "stdout",
     "output_type": "stream",
     "text": [
      "['loss', 'accuracy']\n"
     ]
    }
   ],
   "source": [
    "print(model.metrics_names)"
   ]
  },
  {
   "cell_type": "markdown",
   "metadata": {},
   "source": [
    "## Metrics computation"
   ]
  },
  {
   "cell_type": "code",
   "execution_count": 46,
   "metadata": {},
   "outputs": [],
   "source": [
    "y_train_pred = model.predict(X)"
   ]
  },
  {
   "cell_type": "code",
   "execution_count": 47,
   "metadata": {},
   "outputs": [],
   "source": [
    "import numpy as np"
   ]
  },
  {
   "cell_type": "code",
   "execution_count": 54,
   "metadata": {},
   "outputs": [
    {
     "data": {
      "text/plain": [
       "0.9618"
      ]
     },
     "execution_count": 54,
     "metadata": {},
     "output_type": "execute_result"
    }
   ],
   "source": [
    "np.mean(np.round(y_train_pred).reshape(-1) == y_train)"
   ]
  },
  {
   "cell_type": "markdown",
   "metadata": {},
   "source": [
    "## Train/Test in Keras"
   ]
  },
  {
   "cell_type": "code",
   "execution_count": 55,
   "metadata": {},
   "outputs": [],
   "source": [
    "X_train = open_images(\"./data/fashion/train-images-idx3-ubyte.gz\")\n",
    "y_train = open_labels(\"./data/fashion/train-labels-idx1-ubyte.gz\")\n",
    "\n",
    "y_train = y_train == 0\n",
    "\n",
    "X_test = open_images(\"./data/fashion/t10k-images-idx3-ubyte.gz\")\n",
    "y_test = open_labels(\"./data/fashion/t10k-labels-idx1-ubyte.gz\")\n",
    "\n",
    "y_test = y_test == 0"
   ]
  },
  {
   "cell_type": "code",
   "execution_count": 56,
   "metadata": {},
   "outputs": [],
   "source": [
    "from keras.models import Sequential\n",
    "from keras.layers import Dense"
   ]
  },
  {
   "cell_type": "code",
   "execution_count": 57,
   "metadata": {},
   "outputs": [],
   "source": [
    "model = Sequential()\n",
    "\n",
    "model.add(Dense(100, activation=\"sigmoid\", input_shape=(784,)))\n",
    "model.add(Dense(1, activation=\"sigmoid\"))\n",
    "\n",
    "model.compile(optimizer=\"sgd\", loss=\"binary_crossentropy\", metrics=[\"accuracy\"])"
   ]
  },
  {
   "cell_type": "code",
   "execution_count": 58,
   "metadata": {},
   "outputs": [
    {
     "name": "stdout",
     "output_type": "stream",
     "text": [
      "Epoch 1/10\n",
      "60000/60000 [==============================] - 0s 7us/step - loss: 0.2384 - accuracy: 0.9096\n",
      "Epoch 2/10\n",
      "60000/60000 [==============================] - 0s 6us/step - loss: 0.1680 - accuracy: 0.9380\n",
      "Epoch 3/10\n",
      "60000/60000 [==============================] - 0s 6us/step - loss: 0.1482 - accuracy: 0.9467\n",
      "Epoch 4/10\n",
      "60000/60000 [==============================] - 0s 6us/step - loss: 0.1376 - accuracy: 0.9504\n",
      "Epoch 5/10\n",
      "60000/60000 [==============================] - 0s 6us/step - loss: 0.1310 - accuracy: 0.9523\n",
      "Epoch 6/10\n",
      "60000/60000 [==============================] - 0s 6us/step - loss: 0.1262 - accuracy: 0.9534\n",
      "Epoch 7/10\n",
      "60000/60000 [==============================] - 0s 6us/step - loss: 0.1229 - accuracy: 0.9537\n",
      "Epoch 8/10\n",
      "60000/60000 [==============================] - 0s 6us/step - loss: 0.1200 - accuracy: 0.9545\n",
      "Epoch 9/10\n",
      "60000/60000 [==============================] - 0s 6us/step - loss: 0.1180 - accuracy: 0.9546\n",
      "Epoch 10/10\n",
      "60000/60000 [==============================] - 0s 6us/step - loss: 0.1164 - accuracy: 0.9549\n"
     ]
    },
    {
     "data": {
      "text/plain": [
       "<keras.callbacks.callbacks.History at 0x1da1fe1d408>"
      ]
     },
     "execution_count": 58,
     "metadata": {},
     "output_type": "execute_result"
    }
   ],
   "source": [
    "model.fit(\n",
    "    X_train.reshape(60000, 784),\n",
    "    y_train,\n",
    "    epochs=10,\n",
    "    batch_size=1000)"
   ]
  },
  {
   "cell_type": "code",
   "execution_count": 59,
   "metadata": {},
   "outputs": [
    {
     "name": "stdout",
     "output_type": "stream",
     "text": [
      "10000/10000 [==============================] - 0s 18us/step\n"
     ]
    },
    {
     "data": {
      "text/plain": [
       "[0.12036667124032974, 0.9537000060081482]"
      ]
     },
     "execution_count": 59,
     "metadata": {},
     "output_type": "execute_result"
    }
   ],
   "source": [
    "model.evaluate(X_test.reshape(-1, 784), y_test)"
   ]
  },
  {
   "cell_type": "code",
   "execution_count": null,
   "metadata": {},
   "outputs": [],
   "source": []
  }
 ],
 "metadata": {
  "kernelspec": {
   "display_name": "dl_13",
   "language": "python",
   "name": "dl_13"
  },
  "language_info": {
   "codemirror_mode": {
    "name": "ipython",
    "version": 3
   },
   "file_extension": ".py",
   "mimetype": "text/x-python",
   "name": "python",
   "nbconvert_exporter": "python",
   "pygments_lexer": "ipython3",
   "version": "3.7.4"
  }
 },
 "nbformat": 4,
 "nbformat_minor": 4
}
