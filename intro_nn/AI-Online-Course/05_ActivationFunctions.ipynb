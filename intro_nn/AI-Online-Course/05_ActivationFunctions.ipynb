{
 "cells": [
  {
   "cell_type": "markdown",
   "metadata": {},
   "source": [
    "# Activation Functions\n",
    "\n",
    "* Problem 1: Linear Regression models (aka. single neurons) cannot be chained \n",
    "without any activation function\n",
    "\n",
    "* Problem 2: Classification problem --> Class separability, results as class predictions or as probability distribution\n",
    "\n",
    "## Functions\n",
    "- Sigmoid\n",
    "- ReLU\n",
    "- tanh\n",
    "- etc."
   ]
  },
  {
   "cell_type": "code",
   "execution_count": 1,
   "metadata": {},
   "outputs": [],
   "source": [
    "# http://yann.lecun.com/exdb/mnist/\n",
    "# FashionMNIST: https://github.com/zalandoresearch/fashion-mnist\n",
    "\n",
    "import gzip\n",
    "import numpy as np\n",
    "\n",
    "def open_images(filename):\n",
    "    with gzip.open(filename, \"rb\") as file:\n",
    "        data = file.read()\n",
    "        return np.frombuffer(data, dtype=np.uint8, offset=16)\\\n",
    "            .reshape(-1, 28, 28)\\\n",
    "            .astype(np.float32)\n",
    "\n",
    "\n",
    "def open_labels(filename):\n",
    "    with gzip.open(filename, \"rb\") as file:\n",
    "        data = file.read()\n",
    "        return np.frombuffer(data, dtype=np.uint8, offset=8)"
   ]
  },
  {
   "cell_type": "code",
   "execution_count": 2,
   "metadata": {},
   "outputs": [
    {
     "name": "stderr",
     "output_type": "stream",
     "text": [
      "Using TensorFlow backend.\n"
     ]
    }
   ],
   "source": [
    "from keras.utils import to_categorical"
   ]
  },
  {
   "cell_type": "code",
   "execution_count": 3,
   "metadata": {},
   "outputs": [],
   "source": [
    "X_train = open_images(\"./data/fashion/train-images-idx3-ubyte.gz\")\n",
    "y_train = open_labels(\"./data/fashion/train-labels-idx1-ubyte.gz\")\n",
    "\n",
    "X_test = open_images(\"./data/fashion/t10k-images-idx3-ubyte.gz\")\n",
    "y_test = open_labels(\"./data/fashion/t10k-labels-idx1-ubyte.gz\")\n",
    "\n",
    "y_train = to_categorical(y_train)\n",
    "y_test = to_categorical(y_test)"
   ]
  },
  {
   "cell_type": "code",
   "execution_count": 4,
   "metadata": {},
   "outputs": [],
   "source": [
    "ACTIVATION_FUNCTIONS = [\"sigmoid\", \"hard_sigmoid\", \"relu\", \"selu\", \"elu\", \"tanh\"]"
   ]
  },
  {
   "cell_type": "code",
   "execution_count": 5,
   "metadata": {},
   "outputs": [],
   "source": [
    "from keras.models import Sequential\n",
    "from keras.layers import Dense"
   ]
  },
  {
   "cell_type": "code",
   "execution_count": 6,
   "metadata": {},
   "outputs": [],
   "source": [
    "def create_model(a_fn=\"sigmoid\"):\n",
    "    print(\"Model \", a_fn)\n",
    "    model = Sequential()\n",
    "    model.add(Dense(100, activation=a_fn, input_shape=(784,)))\n",
    "    model.add(Dense(10, activation=\"softmax\"))\n",
    "    return model"
   ]
  },
  {
   "cell_type": "code",
   "execution_count": 7,
   "metadata": {},
   "outputs": [
    {
     "name": "stdout",
     "output_type": "stream",
     "text": [
      "Model  sigmoid\n",
      "WARNING:tensorflow:From C:\\Users\\dilet\\AppData\\Local\\Programs\\Python\\Python37\\lib\\site-packages\\tensorflow_core\\python\\ops\\resource_variable_ops.py:1630: calling BaseResourceVariable.__init__ (from tensorflow.python.ops.resource_variable_ops) with constraint is deprecated and will be removed in a future version.\n",
      "Instructions for updating:\n",
      "If using Keras pass *_constraint arguments to layers.\n",
      "Model  hard_sigmoid\n",
      "Model  relu\n",
      "Model  selu\n",
      "WARNING:tensorflow:From C:\\Users\\dilet\\AppData\\Local\\Programs\\Python\\Python37\\lib\\site-packages\\keras\\backend\\tensorflow_backend.py:3313: where (from tensorflow.python.ops.array_ops) is deprecated and will be removed in a future version.\n",
      "Instructions for updating:\n",
      "Use tf.where in 2.0, which has the same broadcast rule as np.where\n",
      "Model  elu\n",
      "Model  tanh\n"
     ]
    }
   ],
   "source": [
    "MODELS = [create_model(act) for act in ACTIVATION_FUNCTIONS]"
   ]
  },
  {
   "cell_type": "code",
   "execution_count": 8,
   "metadata": {},
   "outputs": [
    {
     "name": "stdout",
     "output_type": "stream",
     "text": [
      "Testing 6 models\n"
     ]
    }
   ],
   "source": [
    "print(\"Testing %s models\" % len(MODELS))"
   ]
  },
  {
   "cell_type": "code",
   "execution_count": 17,
   "metadata": {},
   "outputs": [],
   "source": [
    "def train_model(model):\n",
    "    model.compile(optimizer=\"sgd\", loss=\"binary_crossentropy\", metrics=[\"accuracy\"])\n",
    "    model.fit(\n",
    "    X_train.reshape(-1, 784),\n",
    "    y_train,\n",
    "    epochs=10,\n",
    "    batch_size=1000)\n",
    "    results = model.predict(X_test.reshape(-1,784), verbose=0)\n",
    "    return results"
   ]
  },
  {
   "cell_type": "code",
   "execution_count": 18,
   "metadata": {},
   "outputs": [
    {
     "name": "stdout",
     "output_type": "stream",
     "text": [
      "Training model:  sigmoid\n",
      "Epoch 1/10\n",
      "60000/60000 [==============================] - 1s 19us/step - loss: 0.1338 - accuracy: 0.9503\n",
      "Epoch 2/10\n",
      "60000/60000 [==============================] - 1s 15us/step - loss: 0.1330 - accuracy: 0.9507\n",
      "Epoch 3/10\n",
      "60000/60000 [==============================] - 1s 15us/step - loss: 0.1321 - accuracy: 0.9512\n",
      "Epoch 4/10\n",
      "60000/60000 [==============================] - 1s 15us/step - loss: 0.1313 - accuracy: 0.9516\n",
      "Epoch 5/10\n",
      "60000/60000 [==============================] - 1s 15us/step - loss: 0.1305 - accuracy: 0.9521\n",
      "Epoch 6/10\n",
      "60000/60000 [==============================] - 1s 15us/step - loss: 0.1297 - accuracy: 0.9524\n",
      "Epoch 7/10\n",
      "60000/60000 [==============================] - 1s 15us/step - loss: 0.1290 - accuracy: 0.9528\n",
      "Epoch 8/10\n",
      "60000/60000 [==============================] - 1s 15us/step - loss: 0.1282 - accuracy: 0.9532\n",
      "Epoch 9/10\n",
      "60000/60000 [==============================] - 1s 15us/step - loss: 0.1275 - accuracy: 0.9534\n",
      "Epoch 10/10\n",
      "60000/60000 [==============================] - 1s 15us/step - loss: 0.1268 - accuracy: 0.9538\n",
      "**************************************************\n",
      "Training model:  hard_sigmoid\n",
      "Epoch 1/10\n",
      "60000/60000 [==============================] - 1s 20us/step - loss: 0.1597 - accuracy: 0.9385\n",
      "Epoch 2/10\n",
      "60000/60000 [==============================] - 1s 16us/step - loss: 0.1576 - accuracy: 0.9396\n",
      "Epoch 3/10\n",
      "60000/60000 [==============================] - 1s 16us/step - loss: 0.1558 - accuracy: 0.9404\n",
      "Epoch 4/10\n",
      "60000/60000 [==============================] - 1s 16us/step - loss: 0.1540 - accuracy: 0.9412\n",
      "Epoch 5/10\n",
      "60000/60000 [==============================] - 1s 16us/step - loss: 0.1523 - accuracy: 0.9419\n",
      "Epoch 6/10\n",
      "60000/60000 [==============================] - 1s 16us/step - loss: 0.1507 - accuracy: 0.9426\n",
      "Epoch 7/10\n",
      "60000/60000 [==============================] - 1s 16us/step - loss: 0.1491 - accuracy: 0.9433 0s - loss: 0.1492 - accuracy: \n",
      "Epoch 8/10\n",
      "60000/60000 [==============================] - 1s 16us/step - loss: 0.1477 - accuracy: 0.9440\n",
      "Epoch 9/10\n",
      "60000/60000 [==============================] - 1s 16us/step - loss: 0.1462 - accuracy: 0.9446\n",
      "Epoch 10/10\n",
      "60000/60000 [==============================] - 1s 16us/step - loss: 0.1449 - accuracy: 0.9452\n",
      "**************************************************\n",
      "Training model:  relu\n",
      "Epoch 1/10\n",
      "60000/60000 [==============================] - 1s 19us/step - loss: 0.1286 - accuracy: 0.9595\n",
      "Epoch 2/10\n",
      "60000/60000 [==============================] - 1s 15us/step - loss: 0.1261 - accuracy: 0.9599 0s - loss: 0.1274 - accuracy - ETA: 0s - loss: 0.1265 - accuracy: 0.95 - ETA: 0s - loss: 0.1263 - accura\n",
      "Epoch 3/10\n",
      "60000/60000 [==============================] - 1s 15us/step - loss: 0.1236 - accuracy: 0.9603 0s - loss: 0.122\n",
      "Epoch 4/10\n",
      "60000/60000 [==============================] - 1s 15us/step - loss: 0.1213 - accuracy: 0.9610 0s - loss: 0.1214 - accuracy: 0.\n",
      "Epoch 5/10\n",
      "60000/60000 [==============================] - 1s 15us/step - loss: 0.1187 - accuracy: 0.9614\n",
      "Epoch 6/10\n",
      "60000/60000 [==============================] - 1s 15us/step - loss: 0.1169 - accuracy: 0.9619\n",
      "Epoch 7/10\n",
      "60000/60000 [==============================] - 1s 15us/step - loss: 0.1153 - accuracy: 0.9625\n",
      "Epoch 8/10\n",
      "60000/60000 [==============================] - 1s 16us/step - loss: 0.1135 - accuracy: 0.9628\n",
      "Epoch 9/10\n",
      "60000/60000 [==============================] - 1s 16us/step - loss: 0.1120 - accuracy: 0.9631 0s - loss: 0.1135 - ac\n",
      "Epoch 10/10\n",
      "60000/60000 [==============================] - 1s 15us/step - loss: 0.1110 - accuracy: 0.9633\n",
      "**************************************************\n",
      "Training model:  selu\n",
      "Epoch 1/10\n",
      "60000/60000 [==============================] - 1s 21us/step - loss: 0.1347 - accuracy: 0.9531\n",
      "Epoch 2/10\n",
      "60000/60000 [==============================] - 1s 17us/step - loss: 0.1310 - accuracy: 0.9542\n",
      "Epoch 3/10\n",
      "60000/60000 [==============================] - 1s 16us/step - loss: 0.1279 - accuracy: 0.9549\n",
      "Epoch 4/10\n",
      "60000/60000 [==============================] - 1s 16us/step - loss: 0.1259 - accuracy: 0.9556\n",
      "Epoch 5/10\n",
      "60000/60000 [==============================] - 1s 16us/step - loss: 0.1236 - accuracy: 0.9566\n",
      "Epoch 6/10\n",
      "60000/60000 [==============================] - 1s 16us/step - loss: 0.1211 - accuracy: 0.9569\n",
      "Epoch 7/10\n",
      "60000/60000 [==============================] - 1s 16us/step - loss: 0.1195 - accuracy: 0.9576 0s - loss: 0.1196 \n",
      "Epoch 8/10\n",
      "60000/60000 [==============================] - 1s 16us/step - loss: 0.1180 - accuracy: 0.9582\n",
      "Epoch 9/10\n",
      "60000/60000 [==============================] - 1s 16us/step - loss: 0.1155 - accuracy: 0.9591\n",
      "Epoch 10/10\n",
      "60000/60000 [==============================] - 1s 16us/step - loss: 0.1147 - accuracy: 0.9592\n",
      "**************************************************\n",
      "Training model:  elu\n",
      "Epoch 1/10\n",
      "60000/60000 [==============================] - 1s 20us/step - loss: 0.1207 - accuracy: 0.9575 1s - loss: 0\n",
      "Epoch 2/10\n",
      "60000/60000 [==============================] - 1s 15us/step - loss: 0.1190 - accuracy: 0.9578\n",
      "Epoch 3/10\n",
      "60000/60000 [==============================] - 1s 16us/step - loss: 0.1168 - accuracy: 0.9587\n",
      "Epoch 4/10\n",
      "60000/60000 [==============================] - 1s 16us/step - loss: 0.1158 - accuracy: 0.9589\n",
      "Epoch 5/10\n",
      "60000/60000 [==============================] - 1s 15us/step - loss: 0.1140 - accuracy: 0.9593\n",
      "Epoch 6/10\n",
      "60000/60000 [==============================] - 1s 15us/step - loss: 0.1124 - accuracy: 0.9599\n",
      "Epoch 7/10\n",
      "60000/60000 [==============================] - 1s 15us/step - loss: 0.1109 - accuracy: 0.9606\n",
      "Epoch 8/10\n",
      "60000/60000 [==============================] - 1s 15us/step - loss: 0.1089 - accuracy: 0.9612\n",
      "Epoch 9/10\n",
      "60000/60000 [==============================] - 1s 15us/step - loss: 0.1080 - accuracy: 0.9617\n",
      "Epoch 10/10\n",
      "60000/60000 [==============================] - 1s 15us/step - loss: 0.1071 - accuracy: 0.9619\n",
      "**************************************************\n",
      "Training model:  tanh\n",
      "Epoch 1/10\n",
      "60000/60000 [==============================] - 1s 20us/step - loss: 0.1202 - accuracy: 0.9548\n",
      "Epoch 2/10\n",
      "60000/60000 [==============================] - 1s 15us/step - loss: 0.1188 - accuracy: 0.9554\n",
      "Epoch 3/10\n",
      "60000/60000 [==============================] - 1s 16us/step - loss: 0.1174 - accuracy: 0.9560\n",
      "Epoch 4/10\n",
      "60000/60000 [==============================] - 1s 15us/step - loss: 0.1160 - accuracy: 0.9565\n",
      "Epoch 5/10\n",
      "60000/60000 [==============================] - 1s 16us/step - loss: 0.1149 - accuracy: 0.9569\n",
      "Epoch 6/10\n",
      "60000/60000 [==============================] - 1s 16us/step - loss: 0.1137 - accuracy: 0.9574\n",
      "Epoch 7/10\n",
      "60000/60000 [==============================] - 1s 16us/step - loss: 0.1130 - accuracy: 0.9576\n",
      "Epoch 8/10\n",
      "60000/60000 [==============================] - 1s 16us/step - loss: 0.1119 - accuracy: 0.9582\n",
      "Epoch 9/10\n",
      "60000/60000 [==============================] - 1s 15us/step - loss: 0.1107 - accuracy: 0.9587\n",
      "Epoch 10/10\n",
      "60000/60000 [==============================] - 1s 16us/step - loss: 0.1098 - accuracy: 0.9588\n",
      "**************************************************\n"
     ]
    }
   ],
   "source": [
    "RESULTS = []\n",
    "for model, a_fn in zip(MODELS, ACTIVATION_FUNCTIONS):\n",
    "    print(\"Training model: \", a_fn)\n",
    "    RESULTS.append(train_model(model))\n",
    "    print(\"*\"*50)"
   ]
  },
  {
   "cell_type": "code",
   "execution_count": 20,
   "metadata": {},
   "outputs": [
    {
     "name": "stdout",
     "output_type": "stream",
     "text": [
      "Activation: sigmoid -> Result: [[0.00949962 0.00851517 0.01060433 ... 0.16868016 0.02505522 0.56912965]\n",
      " [0.02112993 0.01797128 0.66048914 ... 0.00915623 0.03898954 0.02242609]\n",
      " [0.01041819 0.9186594  0.00746383 ... 0.0031421  0.00251293 0.00386413]\n",
      " ...\n",
      " [0.08556654 0.00496031 0.01536833 ... 0.009886   0.64514494 0.02176427]\n",
      " [0.01405453 0.7670687  0.01102634 ... 0.00921539 0.00651392 0.00793751]\n",
      " [0.00367453 0.01976525 0.01799609 ... 0.5125976  0.06029106 0.04777737]]\n",
      "Activation: hard_sigmoid -> Result: [[0.01024636 0.01859024 0.01927294 ... 0.10929573 0.0548073  0.6558491 ]\n",
      " [0.06395135 0.01440797 0.43126917 ... 0.00424565 0.03318367 0.02673943]\n",
      " [0.02033909 0.83876634 0.01112897 ... 0.01501446 0.01193923 0.00351407]\n",
      " ...\n",
      " [0.08137689 0.04067555 0.01333263 ... 0.02409885 0.3638395  0.01893006]\n",
      " [0.03728367 0.774372   0.01516961 ... 0.00910512 0.00901546 0.00645342]\n",
      " [0.04698382 0.01140661 0.05859979 ... 0.18832847 0.1197657  0.15880537]]\n",
      "Activation: relu -> Result: [[0.0000000e+00 1.6054235e-36 0.0000000e+00 ... 2.7266628e-04\n",
      "  6.9015536e-28 9.9972731e-01]\n",
      " [2.2321007e-04 3.0790977e-04 9.6333373e-01 ... 5.0788795e-28\n",
      "  1.9046459e-03 5.0051936e-14]\n",
      " [1.9062159e-09 9.9999821e-01 1.9658334e-16 ... 5.5377822e-33\n",
      "  2.1925425e-32 3.4912143e-12]\n",
      " ...\n",
      " [1.7260010e-37 0.0000000e+00 0.0000000e+00 ... 0.0000000e+00\n",
      "  1.0000000e+00 0.0000000e+00]\n",
      " [9.8211075e-08 9.9999201e-01 9.2401131e-19 ... 1.6495242e-32\n",
      "  1.9170744e-34 9.6232289e-13]\n",
      " [1.8120091e-14 1.1585711e-11 9.4706476e-10 ... 6.5022796e-01\n",
      "  2.0269570e-05 3.3110747e-01]]\n",
      "Activation: selu -> Result: [[2.0530193e-37 5.1650543e-36 5.0554515e-33 ... 4.4372022e-02\n",
      "  6.8802242e-06 9.0161771e-01]\n",
      " [7.9117335e-02 9.7425276e-05 5.9903204e-01 ... 1.0119266e-03\n",
      "  9.1426492e-02 6.2690719e-07]\n",
      " [3.3025209e-09 1.0000000e+00 3.4557458e-33 ... 1.0233241e-37\n",
      "  1.4624234e-18 6.6516549e-25]\n",
      " ...\n",
      " [1.9255010e-14 1.1658700e-33 4.0551052e-34 ... 1.0865456e-31\n",
      "  1.0000000e+00 2.3643864e-13]\n",
      " [1.2700192e-18 9.9997032e-01 9.6350781e-26 ... 1.9692982e-24\n",
      "  1.6479522e-34 3.8022582e-11]\n",
      " [2.4637755e-29 5.5007660e-21 1.4111282e-16 ... 8.5846639e-01\n",
      "  1.1078977e-03 2.0378309e-05]]\n",
      "Activation: elu -> Result: [[4.90706792e-23 6.85286180e-20 3.41868215e-19 ... 9.90158245e-02\n",
      "  3.04449195e-08 8.60839307e-01]\n",
      " [6.91431513e-16 2.04958883e-14 9.28773820e-01 ... 2.51049443e-07\n",
      "  2.09418872e-07 6.83965595e-08]\n",
      " [1.54179617e-17 1.00000000e+00 1.96103692e-15 ... 3.78301829e-27\n",
      "  2.22212456e-19 8.21477539e-22]\n",
      " ...\n",
      " [1.42367604e-10 3.60809126e-19 5.98308228e-14 ... 1.17457952e-04\n",
      "  9.99882460e-01 1.22123033e-18]\n",
      " [7.29159685e-04 9.97490883e-01 7.26965439e-08 ... 5.29100983e-16\n",
      "  1.18014805e-05 3.71775428e-07]\n",
      " [1.12499647e-16 1.72603698e-14 3.87745131e-12 ... 5.81997752e-01\n",
      "  2.60820717e-01 2.32861247e-02]]\n",
      "Activation: tanh -> Result: [[8.1606219e-03 3.6139658e-03 1.1253557e-02 ... 1.7618757e-01\n",
      "  4.8201080e-02 4.6761593e-01]\n",
      " [1.7312093e-02 3.4668157e-03 7.6392865e-01 ... 1.4948052e-02\n",
      "  9.0704234e-03 1.8804492e-02]\n",
      " [1.7546227e-03 9.8286551e-01 2.6007165e-04 ... 1.2924803e-03\n",
      "  1.0981577e-04 1.7722413e-03]\n",
      " ...\n",
      " [6.8506729e-03 5.1721575e-04 5.1611355e-03 ... 5.4355809e-03\n",
      "  8.0588359e-01 2.3782274e-02]\n",
      " [4.0404834e-03 9.3043703e-01 8.9665852e-04 ... 2.9359479e-03\n",
      "  5.5565155e-04 1.3428929e-03]\n",
      " [1.4615004e-03 1.0302331e-03 9.5814271e-03 ... 4.0672320e-01\n",
      "  1.0777354e-02 2.6350548e-02]]\n"
     ]
    }
   ],
   "source": [
    "for activation, result in zip(ACTIVATION_FUNCTIONS, RESULTS):\n",
    "    print(\"Activation: %s -> Result: %s\" %(activation, result))"
   ]
  },
  {
   "cell_type": "code",
   "execution_count": null,
   "metadata": {},
   "outputs": [],
   "source": []
  },
  {
   "cell_type": "code",
   "execution_count": null,
   "metadata": {},
   "outputs": [],
   "source": []
  }
 ],
 "metadata": {
  "kernelspec": {
   "display_name": "dl_13",
   "language": "python",
   "name": "dl_13"
  },
  "language_info": {
   "codemirror_mode": {
    "name": "ipython",
    "version": 3
   },
   "file_extension": ".py",
   "mimetype": "text/x-python",
   "name": "python",
   "nbconvert_exporter": "python",
   "pygments_lexer": "ipython3",
   "version": "3.7.4"
  }
 },
 "nbformat": 4,
 "nbformat_minor": 4
}
