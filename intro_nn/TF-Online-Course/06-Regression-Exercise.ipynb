{
 "cells": [
  {
   "cell_type": "markdown",
   "metadata": {},
   "source": [
    "# Regression Exercise \n",
    "\n",
    "California Housing Data\n",
    "\n",
    "This data set contains information about all the block groups in California from the 1990 Census. In this sample a block group on average includes 1425.5 individuals living in a geographically compact area. \n",
    "\n",
    "The task is to aproximate the median house value of each block from the values of the rest of the variables. \n",
    "\n",
    " It has been obtained from the LIACC repository. The original page where the data set can be found is: http://www.liaad.up.pt/~ltorgo/Regression/DataSets.html.\n",
    " "
   ]
  },
  {
   "cell_type": "markdown",
   "metadata": {},
   "source": [
    "The Features:\n",
    " \n",
    "* housingMedianAge: continuous. \n",
    "* totalRooms: continuous. \n",
    "* totalBedrooms: continuous. \n",
    "* population: continuous. \n",
    "* households: continuous. \n",
    "* medianIncome: continuous. \n",
    "* medianHouseValue: continuous. "
   ]
  },
  {
   "cell_type": "markdown",
   "metadata": {},
   "source": [
    "## The Data"
   ]
  },
  {
   "cell_type": "markdown",
   "metadata": {},
   "source": [
    "** Import the cal_housing_clean.csv file with pandas. Separate it into a training (70%) and testing set(30%).**"
   ]
  },
  {
   "cell_type": "code",
   "execution_count": 1,
   "metadata": {},
   "outputs": [],
   "source": [
    "import pandas as pd\n",
    "from sklearn.model_selection import train_test_split"
   ]
  },
  {
   "cell_type": "code",
   "execution_count": 2,
   "metadata": {},
   "outputs": [],
   "source": [
    "df = pd.read_csv(\"cal_housing_clean.csv\")"
   ]
  },
  {
   "cell_type": "code",
   "execution_count": 3,
   "metadata": {},
   "outputs": [
    {
     "data": {
      "text/html": [
       "<div>\n",
       "<style scoped>\n",
       "    .dataframe tbody tr th:only-of-type {\n",
       "        vertical-align: middle;\n",
       "    }\n",
       "\n",
       "    .dataframe tbody tr th {\n",
       "        vertical-align: top;\n",
       "    }\n",
       "\n",
       "    .dataframe thead th {\n",
       "        text-align: right;\n",
       "    }\n",
       "</style>\n",
       "<table border=\"1\" class=\"dataframe\">\n",
       "  <thead>\n",
       "    <tr style=\"text-align: right;\">\n",
       "      <th></th>\n",
       "      <th>housingMedianAge</th>\n",
       "      <th>totalRooms</th>\n",
       "      <th>totalBedrooms</th>\n",
       "      <th>population</th>\n",
       "      <th>households</th>\n",
       "      <th>medianIncome</th>\n",
       "      <th>medianHouseValue</th>\n",
       "    </tr>\n",
       "  </thead>\n",
       "  <tbody>\n",
       "    <tr>\n",
       "      <th>0</th>\n",
       "      <td>41.0</td>\n",
       "      <td>880.0</td>\n",
       "      <td>129.0</td>\n",
       "      <td>322.0</td>\n",
       "      <td>126.0</td>\n",
       "      <td>8.3252</td>\n",
       "      <td>452600.0</td>\n",
       "    </tr>\n",
       "    <tr>\n",
       "      <th>1</th>\n",
       "      <td>21.0</td>\n",
       "      <td>7099.0</td>\n",
       "      <td>1106.0</td>\n",
       "      <td>2401.0</td>\n",
       "      <td>1138.0</td>\n",
       "      <td>8.3014</td>\n",
       "      <td>358500.0</td>\n",
       "    </tr>\n",
       "    <tr>\n",
       "      <th>2</th>\n",
       "      <td>52.0</td>\n",
       "      <td>1467.0</td>\n",
       "      <td>190.0</td>\n",
       "      <td>496.0</td>\n",
       "      <td>177.0</td>\n",
       "      <td>7.2574</td>\n",
       "      <td>352100.0</td>\n",
       "    </tr>\n",
       "    <tr>\n",
       "      <th>3</th>\n",
       "      <td>52.0</td>\n",
       "      <td>1274.0</td>\n",
       "      <td>235.0</td>\n",
       "      <td>558.0</td>\n",
       "      <td>219.0</td>\n",
       "      <td>5.6431</td>\n",
       "      <td>341300.0</td>\n",
       "    </tr>\n",
       "    <tr>\n",
       "      <th>4</th>\n",
       "      <td>52.0</td>\n",
       "      <td>1627.0</td>\n",
       "      <td>280.0</td>\n",
       "      <td>565.0</td>\n",
       "      <td>259.0</td>\n",
       "      <td>3.8462</td>\n",
       "      <td>342200.0</td>\n",
       "    </tr>\n",
       "  </tbody>\n",
       "</table>\n",
       "</div>"
      ],
      "text/plain": [
       "   housingMedianAge  totalRooms  totalBedrooms  population  households  \\\n",
       "0              41.0       880.0          129.0       322.0       126.0   \n",
       "1              21.0      7099.0         1106.0      2401.0      1138.0   \n",
       "2              52.0      1467.0          190.0       496.0       177.0   \n",
       "3              52.0      1274.0          235.0       558.0       219.0   \n",
       "4              52.0      1627.0          280.0       565.0       259.0   \n",
       "\n",
       "   medianIncome  medianHouseValue  \n",
       "0        8.3252          452600.0  \n",
       "1        8.3014          358500.0  \n",
       "2        7.2574          352100.0  \n",
       "3        5.6431          341300.0  \n",
       "4        3.8462          342200.0  "
      ]
     },
     "execution_count": 3,
     "metadata": {},
     "output_type": "execute_result"
    }
   ],
   "source": [
    "df.head()"
   ]
  },
  {
   "cell_type": "code",
   "execution_count": 4,
   "metadata": {},
   "outputs": [
    {
     "data": {
      "text/html": [
       "<div>\n",
       "<style scoped>\n",
       "    .dataframe tbody tr th:only-of-type {\n",
       "        vertical-align: middle;\n",
       "    }\n",
       "\n",
       "    .dataframe tbody tr th {\n",
       "        vertical-align: top;\n",
       "    }\n",
       "\n",
       "    .dataframe thead th {\n",
       "        text-align: right;\n",
       "    }\n",
       "</style>\n",
       "<table border=\"1\" class=\"dataframe\">\n",
       "  <thead>\n",
       "    <tr style=\"text-align: right;\">\n",
       "      <th></th>\n",
       "      <th>count</th>\n",
       "      <th>mean</th>\n",
       "      <th>std</th>\n",
       "      <th>min</th>\n",
       "      <th>25%</th>\n",
       "      <th>50%</th>\n",
       "      <th>75%</th>\n",
       "      <th>max</th>\n",
       "    </tr>\n",
       "  </thead>\n",
       "  <tbody>\n",
       "    <tr>\n",
       "      <th>housingMedianAge</th>\n",
       "      <td>20640.0</td>\n",
       "      <td>28.639486</td>\n",
       "      <td>12.585558</td>\n",
       "      <td>1.0000</td>\n",
       "      <td>18.0000</td>\n",
       "      <td>29.0000</td>\n",
       "      <td>37.00000</td>\n",
       "      <td>52.0000</td>\n",
       "    </tr>\n",
       "    <tr>\n",
       "      <th>totalRooms</th>\n",
       "      <td>20640.0</td>\n",
       "      <td>2635.763081</td>\n",
       "      <td>2181.615252</td>\n",
       "      <td>2.0000</td>\n",
       "      <td>1447.7500</td>\n",
       "      <td>2127.0000</td>\n",
       "      <td>3148.00000</td>\n",
       "      <td>39320.0000</td>\n",
       "    </tr>\n",
       "    <tr>\n",
       "      <th>totalBedrooms</th>\n",
       "      <td>20640.0</td>\n",
       "      <td>537.898014</td>\n",
       "      <td>421.247906</td>\n",
       "      <td>1.0000</td>\n",
       "      <td>295.0000</td>\n",
       "      <td>435.0000</td>\n",
       "      <td>647.00000</td>\n",
       "      <td>6445.0000</td>\n",
       "    </tr>\n",
       "    <tr>\n",
       "      <th>population</th>\n",
       "      <td>20640.0</td>\n",
       "      <td>1425.476744</td>\n",
       "      <td>1132.462122</td>\n",
       "      <td>3.0000</td>\n",
       "      <td>787.0000</td>\n",
       "      <td>1166.0000</td>\n",
       "      <td>1725.00000</td>\n",
       "      <td>35682.0000</td>\n",
       "    </tr>\n",
       "    <tr>\n",
       "      <th>households</th>\n",
       "      <td>20640.0</td>\n",
       "      <td>499.539680</td>\n",
       "      <td>382.329753</td>\n",
       "      <td>1.0000</td>\n",
       "      <td>280.0000</td>\n",
       "      <td>409.0000</td>\n",
       "      <td>605.00000</td>\n",
       "      <td>6082.0000</td>\n",
       "    </tr>\n",
       "    <tr>\n",
       "      <th>medianIncome</th>\n",
       "      <td>20640.0</td>\n",
       "      <td>3.870671</td>\n",
       "      <td>1.899822</td>\n",
       "      <td>0.4999</td>\n",
       "      <td>2.5634</td>\n",
       "      <td>3.5348</td>\n",
       "      <td>4.74325</td>\n",
       "      <td>15.0001</td>\n",
       "    </tr>\n",
       "    <tr>\n",
       "      <th>medianHouseValue</th>\n",
       "      <td>20640.0</td>\n",
       "      <td>206855.816909</td>\n",
       "      <td>115395.615874</td>\n",
       "      <td>14999.0000</td>\n",
       "      <td>119600.0000</td>\n",
       "      <td>179700.0000</td>\n",
       "      <td>264725.00000</td>\n",
       "      <td>500001.0000</td>\n",
       "    </tr>\n",
       "  </tbody>\n",
       "</table>\n",
       "</div>"
      ],
      "text/plain": [
       "                    count           mean            std         min  \\\n",
       "housingMedianAge  20640.0      28.639486      12.585558      1.0000   \n",
       "totalRooms        20640.0    2635.763081    2181.615252      2.0000   \n",
       "totalBedrooms     20640.0     537.898014     421.247906      1.0000   \n",
       "population        20640.0    1425.476744    1132.462122      3.0000   \n",
       "households        20640.0     499.539680     382.329753      1.0000   \n",
       "medianIncome      20640.0       3.870671       1.899822      0.4999   \n",
       "medianHouseValue  20640.0  206855.816909  115395.615874  14999.0000   \n",
       "\n",
       "                          25%          50%           75%          max  \n",
       "housingMedianAge      18.0000      29.0000      37.00000      52.0000  \n",
       "totalRooms          1447.7500    2127.0000    3148.00000   39320.0000  \n",
       "totalBedrooms        295.0000     435.0000     647.00000    6445.0000  \n",
       "population           787.0000    1166.0000    1725.00000   35682.0000  \n",
       "households           280.0000     409.0000     605.00000    6082.0000  \n",
       "medianIncome           2.5634       3.5348       4.74325      15.0001  \n",
       "medianHouseValue  119600.0000  179700.0000  264725.00000  500001.0000  "
      ]
     },
     "execution_count": 4,
     "metadata": {},
     "output_type": "execute_result"
    }
   ],
   "source": [
    "df.describe().transpose()"
   ]
  },
  {
   "cell_type": "code",
   "execution_count": 5,
   "metadata": {
    "scrolled": true
   },
   "outputs": [],
   "source": [
    "x_data = df.drop(['medianHouseValue'],axis=1)"
   ]
  },
  {
   "cell_type": "code",
   "execution_count": 6,
   "metadata": {},
   "outputs": [],
   "source": [
    "y_val = df['medianHouseValue']"
   ]
  },
  {
   "cell_type": "code",
   "execution_count": 7,
   "metadata": {},
   "outputs": [],
   "source": [
    "X_train, X_test, y_train, y_test = train_test_split(x_data,y_val,test_size=0.3,random_state=101)"
   ]
  },
  {
   "cell_type": "markdown",
   "metadata": {},
   "source": [
    "### Scale the Feature Data\n",
    "\n",
    "** Use sklearn preprocessing to create a MinMaxScaler for the feature data. Fit this scaler only to the training data. Then use it to transform X_test and X_train. Then use the scaled X_test and X_train along with pd.Dataframe to re-create two dataframes of scaled data.**"
   ]
  },
  {
   "cell_type": "code",
   "execution_count": 8,
   "metadata": {},
   "outputs": [],
   "source": [
    "from sklearn.preprocessing import MinMaxScaler"
   ]
  },
  {
   "cell_type": "code",
   "execution_count": 9,
   "metadata": {},
   "outputs": [],
   "source": [
    "scaler = MinMaxScaler()"
   ]
  },
  {
   "cell_type": "code",
   "execution_count": 10,
   "metadata": {},
   "outputs": [
    {
     "data": {
      "text/plain": [
       "MinMaxScaler(copy=True, feature_range=(0, 1))"
      ]
     },
     "execution_count": 10,
     "metadata": {},
     "output_type": "execute_result"
    }
   ],
   "source": [
    "scaler.fit(X_train)"
   ]
  },
  {
   "cell_type": "code",
   "execution_count": 11,
   "metadata": {},
   "outputs": [],
   "source": [
    "X_train = pd.DataFrame(data=scaler.transform(X_train),columns = X_train.columns,index=X_train.index)"
   ]
  },
  {
   "cell_type": "code",
   "execution_count": 12,
   "metadata": {},
   "outputs": [],
   "source": [
    "X_test = pd.DataFrame(data=scaler.transform(X_test),columns = X_test.columns,index=X_test.index)"
   ]
  },
  {
   "cell_type": "markdown",
   "metadata": {},
   "source": [
    "### Create Feature Columns\n",
    "\n",
    "** Create the necessary tf.feature_column objects for the estimator. They should all be trated as continuous numeric_columns. **"
   ]
  },
  {
   "cell_type": "code",
   "execution_count": 13,
   "metadata": {},
   "outputs": [
    {
     "data": {
      "text/plain": [
       "Index(['housingMedianAge', 'totalRooms', 'totalBedrooms', 'population',\n",
       "       'households', 'medianIncome', 'medianHouseValue'],\n",
       "      dtype='object')"
      ]
     },
     "execution_count": 13,
     "metadata": {},
     "output_type": "execute_result"
    }
   ],
   "source": [
    "df.columns"
   ]
  },
  {
   "cell_type": "code",
   "execution_count": 14,
   "metadata": {},
   "outputs": [],
   "source": [
    "import tensorflow as tf"
   ]
  },
  {
   "cell_type": "markdown",
   "metadata": {},
   "source": [
    "** Create the input function for the estimator object. (play around with batch_size and num_epochs)**"
   ]
  },
  {
   "cell_type": "code",
   "execution_count": 15,
   "metadata": {},
   "outputs": [],
   "source": [
    "### create inputs for the estimator\n",
    "\n",
    "age = tf.feature_column.numeric_column('housingMedianAge')\n",
    "rooms = tf.feature_column.numeric_column('totalRooms')\n",
    "bedrooms = tf.feature_column.numeric_column('totalBedrooms')\n",
    "pop = tf.feature_column.numeric_column('population')\n",
    "households = tf.feature_column.numeric_column('households')\n",
    "income = tf.feature_column.numeric_column('medianIncome')"
   ]
  },
  {
   "cell_type": "code",
   "execution_count": 16,
   "metadata": {},
   "outputs": [],
   "source": [
    "feat_cols = [ age,rooms,bedrooms,pop,households,income]"
   ]
  },
  {
   "cell_type": "code",
   "execution_count": 17,
   "metadata": {},
   "outputs": [],
   "source": [
    "input_func = tf.estimator.inputs.pandas_input_fn(x=X_train,y=y_train ,batch_size=10,num_epochs=1000,\n",
    "                                            shuffle=True)"
   ]
  },
  {
   "cell_type": "markdown",
   "metadata": {},
   "source": [
    "** Create the estimator model. Use a DNNRegressor. Play around with the hidden units! **"
   ]
  },
  {
   "cell_type": "code",
   "execution_count": 18,
   "metadata": {},
   "outputs": [
    {
     "name": "stdout",
     "output_type": "stream",
     "text": [
      "INFO:tensorflow:Using default config.\n",
      "WARNING:tensorflow:Using temporary folder as model directory: C:\\Users\\dilet\\AppData\\Local\\Temp\\tmp3r1tsfkz\n",
      "INFO:tensorflow:Using config: {'_model_dir': 'C:\\\\Users\\\\dilet\\\\AppData\\\\Local\\\\Temp\\\\tmp3r1tsfkz', '_tf_random_seed': None, '_save_summary_steps': 100, '_save_checkpoints_steps': None, '_save_checkpoints_secs': 600, '_session_config': allow_soft_placement: true\n",
      "graph_options {\n",
      "  rewrite_options {\n",
      "    meta_optimizer_iterations: ONE\n",
      "  }\n",
      "}\n",
      ", '_keep_checkpoint_max': 5, '_keep_checkpoint_every_n_hours': 10000, '_log_step_count_steps': 100, '_train_distribute': None, '_device_fn': None, '_protocol': None, '_eval_distribute': None, '_experimental_distribute': None, '_experimental_max_worker_delay_secs': None, '_session_creation_timeout_secs': 7200, '_service': None, '_cluster_spec': <tensorflow.python.training.server_lib.ClusterSpec object at 0x00000220FC3A9E48>, '_task_type': 'worker', '_task_id': 0, '_global_id_in_cluster': 0, '_master': '', '_evaluation_master': '', '_is_chief': True, '_num_ps_replicas': 0, '_num_worker_replicas': 1}\n"
     ]
    }
   ],
   "source": [
    "model = tf.estimator.DNNRegressor(hidden_units=[5,10,5],\n",
    "                                  feature_columns=feat_cols)"
   ]
  },
  {
   "cell_type": "markdown",
   "metadata": {},
   "source": [
    "##### ** Train the model for ~1,000 steps. (Later come back to this and train it for more and check for improvement) **"
   ]
  },
  {
   "cell_type": "code",
   "execution_count": 19,
   "metadata": {},
   "outputs": [
    {
     "name": "stdout",
     "output_type": "stream",
     "text": [
      "WARNING:tensorflow:From C:\\Users\\dilet\\AppData\\Local\\Programs\\Python\\Python37\\lib\\site-packages\\tensorflow_core\\python\\training\\training_util.py:236: Variable.initialized_value (from tensorflow.python.ops.variables) is deprecated and will be removed in a future version.\n",
      "Instructions for updating:\n",
      "Use Variable.read_value. Variables in 2.X are initialized automatically both in eager and graph (inside tf.defun) contexts.\n",
      "WARNING:tensorflow:From C:\\Users\\dilet\\AppData\\Local\\Programs\\Python\\Python37\\lib\\site-packages\\tensorflow_estimator\\python\\estimator\\inputs\\queues\\feeding_queue_runner.py:62: QueueRunner.__init__ (from tensorflow.python.training.queue_runner_impl) is deprecated and will be removed in a future version.\n",
      "Instructions for updating:\n",
      "To construct input pipelines, use the `tf.data` module.\n",
      "WARNING:tensorflow:From C:\\Users\\dilet\\AppData\\Local\\Programs\\Python\\Python37\\lib\\site-packages\\tensorflow_estimator\\python\\estimator\\inputs\\queues\\feeding_functions.py:500: add_queue_runner (from tensorflow.python.training.queue_runner_impl) is deprecated and will be removed in a future version.\n",
      "Instructions for updating:\n",
      "To construct input pipelines, use the `tf.data` module.\n",
      "INFO:tensorflow:Calling model_fn.\n",
      "WARNING:tensorflow:From C:\\Users\\dilet\\AppData\\Local\\Programs\\Python\\Python37\\lib\\site-packages\\tensorflow_core\\python\\ops\\resource_variable_ops.py:1630: calling BaseResourceVariable.__init__ (from tensorflow.python.ops.resource_variable_ops) with constraint is deprecated and will be removed in a future version.\n",
      "Instructions for updating:\n",
      "If using Keras pass *_constraint arguments to layers.\n",
      "WARNING:tensorflow:From C:\\Users\\dilet\\AppData\\Local\\Programs\\Python\\Python37\\lib\\site-packages\\tensorflow_estimator\\python\\estimator\\canned\\head.py:437: to_float (from tensorflow.python.ops.math_ops) is deprecated and will be removed in a future version.\n",
      "Instructions for updating:\n",
      "Use `tf.cast` instead.\n",
      "WARNING:tensorflow:From C:\\Users\\dilet\\AppData\\Local\\Programs\\Python\\Python37\\lib\\site-packages\\tensorflow_core\\python\\training\\adagrad.py:76: calling Constant.__init__ (from tensorflow.python.ops.init_ops) with dtype is deprecated and will be removed in a future version.\n",
      "Instructions for updating:\n",
      "Call initializer instance with the dtype argument instead of passing it to the constructor\n",
      "INFO:tensorflow:Done calling model_fn.\n",
      "INFO:tensorflow:Create CheckpointSaverHook.\n",
      "WARNING:tensorflow:From C:\\Users\\dilet\\AppData\\Local\\Programs\\Python\\Python37\\lib\\site-packages\\tensorflow_core\\python\\ops\\array_ops.py:1475: where (from tensorflow.python.ops.array_ops) is deprecated and will be removed in a future version.\n",
      "Instructions for updating:\n",
      "Use tf.where in 2.0, which has the same broadcast rule as np.where\n",
      "INFO:tensorflow:Graph was finalized.\n",
      "INFO:tensorflow:Running local_init_op.\n",
      "INFO:tensorflow:Done running local_init_op.\n",
      "WARNING:tensorflow:From C:\\Users\\dilet\\AppData\\Local\\Programs\\Python\\Python37\\lib\\site-packages\\tensorflow_core\\python\\training\\monitored_session.py:882: start_queue_runners (from tensorflow.python.training.queue_runner_impl) is deprecated and will be removed in a future version.\n",
      "Instructions for updating:\n",
      "To construct input pipelines, use the `tf.data` module.\n",
      "INFO:tensorflow:Saving checkpoints for 0 into C:\\Users\\dilet\\AppData\\Local\\Temp\\tmp3r1tsfkz\\model.ckpt.\n",
      "INFO:tensorflow:loss = 384189300000.0, step = 1\n",
      "INFO:tensorflow:global_step/sec: 255.535\n",
      "INFO:tensorflow:loss = 447444100000.0, step = 101 (0.391 sec)\n",
      "INFO:tensorflow:global_step/sec: 299.297\n",
      "INFO:tensorflow:loss = 400424960000.0, step = 201 (0.334 sec)\n",
      "INFO:tensorflow:global_step/sec: 316.231\n",
      "INFO:tensorflow:loss = 355260300000.0, step = 301 (0.334 sec)\n",
      "INFO:tensorflow:global_step/sec: 303.969\n",
      "INFO:tensorflow:loss = 716018600000.0, step = 401 (0.328 sec)\n",
      "INFO:tensorflow:global_step/sec: 300.64\n",
      "INFO:tensorflow:loss = 372764000000.0, step = 501 (0.316 sec)\n",
      "INFO:tensorflow:global_step/sec: 303.064\n",
      "INFO:tensorflow:loss = 330802070000.0, step = 601 (0.330 sec)\n",
      "INFO:tensorflow:global_step/sec: 309.408\n",
      "INFO:tensorflow:loss = 173508900000.0, step = 701 (0.323 sec)\n",
      "INFO:tensorflow:global_step/sec: 317.589\n",
      "INFO:tensorflow:loss = 793102100000.0, step = 801 (0.315 sec)\n",
      "INFO:tensorflow:global_step/sec: 288.822\n",
      "INFO:tensorflow:loss = 308437200000.0, step = 901 (0.362 sec)\n",
      "INFO:tensorflow:global_step/sec: 297.679\n",
      "INFO:tensorflow:loss = 689582440000.0, step = 1001 (0.328 sec)\n",
      "INFO:tensorflow:global_step/sec: 309.804\n",
      "INFO:tensorflow:loss = 618013700000.0, step = 1101 (0.323 sec)\n",
      "INFO:tensorflow:global_step/sec: 283.762\n",
      "INFO:tensorflow:loss = 290510860000.0, step = 1201 (0.351 sec)\n",
      "INFO:tensorflow:global_step/sec: 317.296\n",
      "INFO:tensorflow:loss = 635145400000.0, step = 1301 (0.309 sec)\n",
      "INFO:tensorflow:global_step/sec: 304.427\n",
      "INFO:tensorflow:loss = 316816360000.0, step = 1401 (0.328 sec)\n",
      "INFO:tensorflow:global_step/sec: 286.919\n",
      "INFO:tensorflow:loss = 223078200000.0, step = 1501 (0.349 sec)\n",
      "INFO:tensorflow:global_step/sec: 310.395\n",
      "INFO:tensorflow:loss = 219363540000.0, step = 1601 (0.322 sec)\n",
      "INFO:tensorflow:global_step/sec: 322.777\n",
      "INFO:tensorflow:loss = 321131740000.0, step = 1701 (0.327 sec)\n",
      "INFO:tensorflow:global_step/sec: 299.916\n",
      "INFO:tensorflow:loss = 461823020000.0, step = 1801 (0.334 sec)\n",
      "INFO:tensorflow:global_step/sec: 300.561\n",
      "INFO:tensorflow:loss = 462261100000.0, step = 1901 (0.316 sec)\n",
      "INFO:tensorflow:global_step/sec: 315.047\n",
      "INFO:tensorflow:loss = 178462460000.0, step = 2001 (0.317 sec)\n",
      "INFO:tensorflow:global_step/sec: 300.555\n",
      "INFO:tensorflow:loss = 154794600000.0, step = 2101 (0.347 sec)\n",
      "INFO:tensorflow:global_step/sec: 315.355\n",
      "INFO:tensorflow:loss = 80803955000.0, step = 2201 (0.318 sec)\n",
      "INFO:tensorflow:global_step/sec: 310.775\n",
      "INFO:tensorflow:loss = 116786045000.0, step = 2301 (0.306 sec)\n",
      "INFO:tensorflow:global_step/sec: 305.572\n",
      "INFO:tensorflow:loss = 210619860000.0, step = 2401 (0.327 sec)\n",
      "INFO:tensorflow:global_step/sec: 318.774\n",
      "INFO:tensorflow:loss = 40629547000.0, step = 2501 (0.314 sec)\n",
      "INFO:tensorflow:global_step/sec: 329.943\n",
      "INFO:tensorflow:loss = 91379390000.0, step = 2601 (0.319 sec)\n",
      "INFO:tensorflow:global_step/sec: 284.214\n",
      "INFO:tensorflow:loss = 49050276000.0, step = 2701 (0.336 sec)\n",
      "INFO:tensorflow:global_step/sec: 303.685\n",
      "INFO:tensorflow:loss = 154428540000.0, step = 2801 (0.331 sec)\n",
      "INFO:tensorflow:global_step/sec: 311.884\n",
      "INFO:tensorflow:loss = 206434760000.0, step = 2901 (0.335 sec)\n",
      "INFO:tensorflow:global_step/sec: 283.809\n",
      "INFO:tensorflow:loss = 136409780000.0, step = 3001 (0.339 sec)\n",
      "INFO:tensorflow:global_step/sec: 290.242\n",
      "INFO:tensorflow:loss = 32983430000.0, step = 3101 (0.341 sec)\n",
      "INFO:tensorflow:global_step/sec: 315.619\n",
      "INFO:tensorflow:loss = 22531015000.0, step = 3201 (0.323 sec)\n",
      "INFO:tensorflow:global_step/sec: 297.401\n",
      "INFO:tensorflow:loss = 46264420000.0, step = 3301 (0.347 sec)\n",
      "INFO:tensorflow:global_step/sec: 298.33\n",
      "INFO:tensorflow:loss = 80470180000.0, step = 3401 (0.318 sec)\n",
      "INFO:tensorflow:global_step/sec: 315.35\n",
      "INFO:tensorflow:loss = 74870194000.0, step = 3501 (0.317 sec)\n",
      "INFO:tensorflow:global_step/sec: 288.757\n",
      "INFO:tensorflow:loss = 117303130000.0, step = 3601 (0.346 sec)\n",
      "INFO:tensorflow:global_step/sec: 302.158\n",
      "INFO:tensorflow:loss = 101998660000.0, step = 3701 (0.348 sec)\n",
      "INFO:tensorflow:global_step/sec: 298.708\n",
      "INFO:tensorflow:loss = 194167320000.0, step = 3801 (0.321 sec)\n",
      "INFO:tensorflow:global_step/sec: 301.937\n",
      "INFO:tensorflow:loss = 181157310000.0, step = 3901 (0.344 sec)\n",
      "INFO:tensorflow:global_step/sec: 298.893\n",
      "INFO:tensorflow:loss = 94736340000.0, step = 4001 (0.318 sec)\n",
      "INFO:tensorflow:global_step/sec: 317.491\n",
      "INFO:tensorflow:loss = 64804350000.0, step = 4101 (0.315 sec)\n",
      "INFO:tensorflow:global_step/sec: 285.223\n",
      "INFO:tensorflow:loss = 129294800000.0, step = 4201 (0.351 sec)\n",
      "INFO:tensorflow:global_step/sec: 332.773\n",
      "INFO:tensorflow:loss = 156776350000.0, step = 4301 (0.317 sec)\n",
      "INFO:tensorflow:global_step/sec: 299.495\n",
      "INFO:tensorflow:loss = 132944265000.0, step = 4401 (0.317 sec)\n",
      "INFO:tensorflow:global_step/sec: 295.109\n",
      "INFO:tensorflow:loss = 123624960000.0, step = 4501 (0.339 sec)\n",
      "INFO:tensorflow:global_step/sec: 306.07\n",
      "INFO:tensorflow:loss = 35980200000.0, step = 4601 (0.327 sec)\n",
      "INFO:tensorflow:global_step/sec: 316.19\n",
      "INFO:tensorflow:loss = 75477260000.0, step = 4701 (0.333 sec)\n",
      "INFO:tensorflow:global_step/sec: 300.887\n",
      "INFO:tensorflow:loss = 51364102000.0, step = 4801 (0.315 sec)\n",
      "INFO:tensorflow:global_step/sec: 324.511\n",
      "INFO:tensorflow:loss = 21935952000.0, step = 4901 (0.315 sec)\n",
      "INFO:tensorflow:global_step/sec: 293.328\n",
      "INFO:tensorflow:loss = 133911280000.0, step = 5001 (0.334 sec)\n",
      "INFO:tensorflow:global_step/sec: 313.501\n",
      "INFO:tensorflow:loss = 229113890000.0, step = 5101 (0.344 sec)\n",
      "INFO:tensorflow:global_step/sec: 301.165\n",
      "INFO:tensorflow:loss = 156589950000.0, step = 5201 (0.326 sec)\n",
      "INFO:tensorflow:global_step/sec: 299.873\n",
      "INFO:tensorflow:loss = 170707090000.0, step = 5301 (0.315 sec)\n",
      "INFO:tensorflow:global_step/sec: 317.241\n",
      "INFO:tensorflow:loss = 128696000000.0, step = 5401 (0.332 sec)\n",
      "INFO:tensorflow:global_step/sec: 242.501\n",
      "INFO:tensorflow:loss = 209139380000.0, step = 5501 (0.402 sec)\n",
      "INFO:tensorflow:global_step/sec: 313.329\n",
      "INFO:tensorflow:loss = 33435335000.0, step = 5601 (0.314 sec)\n",
      "INFO:tensorflow:global_step/sec: 313.571\n",
      "INFO:tensorflow:loss = 170264330000.0, step = 5701 (0.318 sec)\n",
      "INFO:tensorflow:global_step/sec: 316.588\n",
      "INFO:tensorflow:loss = 164545800000.0, step = 5801 (0.316 sec)\n",
      "INFO:tensorflow:global_step/sec: 315.201\n",
      "INFO:tensorflow:loss = 113133110000.0, step = 5901 (0.334 sec)\n",
      "INFO:tensorflow:global_step/sec: 287.562\n",
      "INFO:tensorflow:loss = 209233870000.0, step = 6001 (0.333 sec)\n",
      "INFO:tensorflow:global_step/sec: 311.058\n",
      "INFO:tensorflow:loss = 73182890000.0, step = 6101 (0.340 sec)\n",
      "INFO:tensorflow:global_step/sec: 271.551\n",
      "INFO:tensorflow:loss = 61424260000.0, step = 6201 (0.347 sec)\n",
      "INFO:tensorflow:global_step/sec: 304.968\n",
      "INFO:tensorflow:loss = 39739675000.0, step = 6301 (0.337 sec)\n",
      "INFO:tensorflow:global_step/sec: 296.05\n",
      "INFO:tensorflow:loss = 107509380000.0, step = 6401 (0.335 sec)\n",
      "INFO:tensorflow:global_step/sec: 293.468\n",
      "INFO:tensorflow:loss = 61895983000.0, step = 6501 (0.338 sec)\n",
      "INFO:tensorflow:global_step/sec: 306.773\n",
      "INFO:tensorflow:loss = 68333765000.0, step = 6601 (0.334 sec)\n",
      "INFO:tensorflow:global_step/sec: 260.17\n",
      "INFO:tensorflow:loss = 127223330000.0, step = 6701 (0.378 sec)\n",
      "INFO:tensorflow:global_step/sec: 252.951\n",
      "INFO:tensorflow:loss = 163152660000.0, step = 6801 (0.390 sec)\n",
      "INFO:tensorflow:global_step/sec: 334.978\n",
      "INFO:tensorflow:loss = 112860130000.0, step = 6901 (0.299 sec)\n",
      "INFO:tensorflow:global_step/sec: 284.788\n",
      "INFO:tensorflow:loss = 93006740000.0, step = 7001 (0.353 sec)\n",
      "INFO:tensorflow:global_step/sec: 334.575\n",
      "INFO:tensorflow:loss = 157285630000.0, step = 7101 (0.315 sec)\n",
      "INFO:tensorflow:global_step/sec: 292.302\n",
      "INFO:tensorflow:loss = 124495995000.0, step = 7201 (0.330 sec)\n",
      "INFO:tensorflow:global_step/sec: 304.433\n",
      "INFO:tensorflow:loss = 119845880000.0, step = 7301 (0.335 sec)\n",
      "INFO:tensorflow:global_step/sec: 303.981\n",
      "INFO:tensorflow:loss = 151961930000.0, step = 7401 (0.316 sec)\n",
      "INFO:tensorflow:global_step/sec: 294.356\n",
      "INFO:tensorflow:loss = 100444865000.0, step = 7501 (0.340 sec)\n",
      "INFO:tensorflow:global_step/sec: 284.951\n",
      "INFO:tensorflow:loss = 100689584000.0, step = 7601 (0.362 sec)\n",
      "INFO:tensorflow:global_step/sec: 292.545\n",
      "INFO:tensorflow:loss = 220675960000.0, step = 7701 (0.331 sec)\n",
      "INFO:tensorflow:global_step/sec: 311.131\n",
      "INFO:tensorflow:loss = 150214540000.0, step = 7801 (0.321 sec)\n",
      "INFO:tensorflow:global_step/sec: 311.257\n",
      "INFO:tensorflow:loss = 76506890000.0, step = 7901 (0.331 sec)\n",
      "INFO:tensorflow:global_step/sec: 322.687\n",
      "INFO:tensorflow:loss = 159886980000.0, step = 8001 (0.317 sec)\n",
      "INFO:tensorflow:global_step/sec: 285.14\n",
      "INFO:tensorflow:loss = 65739900000.0, step = 8101 (0.334 sec)\n",
      "INFO:tensorflow:global_step/sec: 298.452\n",
      "INFO:tensorflow:loss = 75899180000.0, step = 8201 (0.335 sec)\n",
      "INFO:tensorflow:global_step/sec: 303.635\n",
      "INFO:tensorflow:loss = 134410410000.0, step = 8301 (0.343 sec)\n",
      "INFO:tensorflow:global_step/sec: 295.47\n",
      "INFO:tensorflow:loss = 156584280000.0, step = 8401 (0.344 sec)\n",
      "INFO:tensorflow:global_step/sec: 284.314\n",
      "INFO:tensorflow:loss = 106705690000.0, step = 8501 (0.341 sec)\n",
      "INFO:tensorflow:global_step/sec: 303.357\n",
      "INFO:tensorflow:loss = 167358800000.0, step = 8601 (0.322 sec)\n",
      "INFO:tensorflow:global_step/sec: 291.827\n",
      "INFO:tensorflow:loss = 63830196000.0, step = 8701 (0.344 sec)\n",
      "INFO:tensorflow:global_step/sec: 306.835\n",
      "INFO:tensorflow:loss = 62942670000.0, step = 8801 (0.340 sec)\n",
      "INFO:tensorflow:global_step/sec: 290.31\n",
      "INFO:tensorflow:loss = 207807790000.0, step = 8901 (0.344 sec)\n",
      "INFO:tensorflow:global_step/sec: 283.887\n",
      "INFO:tensorflow:loss = 76707400000.0, step = 9001 (0.341 sec)\n",
      "INFO:tensorflow:global_step/sec: 310.799\n",
      "INFO:tensorflow:loss = 134672470000.0, step = 9101 (0.324 sec)\n",
      "INFO:tensorflow:global_step/sec: 294.831\n",
      "INFO:tensorflow:loss = 150994940000.0, step = 9201 (0.335 sec)\n",
      "INFO:tensorflow:global_step/sec: 300.89\n",
      "INFO:tensorflow:loss = 153789630000.0, step = 9301 (0.332 sec)\n",
      "INFO:tensorflow:global_step/sec: 298.878\n",
      "INFO:tensorflow:loss = 60504744000.0, step = 9401 (0.351 sec)\n",
      "INFO:tensorflow:global_step/sec: 314.454\n",
      "INFO:tensorflow:loss = 106865700000.0, step = 9501 (0.300 sec)\n",
      "INFO:tensorflow:global_step/sec: 294.453\n",
      "INFO:tensorflow:loss = 136971290000.0, step = 9601 (0.349 sec)\n",
      "INFO:tensorflow:global_step/sec: 310.8\n",
      "INFO:tensorflow:loss = 61913040000.0, step = 9701 (0.321 sec)\n",
      "INFO:tensorflow:global_step/sec: 295.863\n",
      "INFO:tensorflow:loss = 260612900000.0, step = 9801 (0.331 sec)\n",
      "INFO:tensorflow:global_step/sec: 307.62\n",
      "INFO:tensorflow:loss = 60486738000.0, step = 9901 (0.335 sec)\n",
      "INFO:tensorflow:global_step/sec: 278.909\n",
      "INFO:tensorflow:loss = 38827196000.0, step = 10001 (0.354 sec)\n",
      "INFO:tensorflow:global_step/sec: 303.949\n",
      "INFO:tensorflow:loss = 157092500000.0, step = 10101 (0.329 sec)\n",
      "INFO:tensorflow:global_step/sec: 281.702\n",
      "INFO:tensorflow:loss = 60312388000.0, step = 10201 (0.347 sec)\n",
      "INFO:tensorflow:global_step/sec: 319.514\n",
      "INFO:tensorflow:loss = 144293600000.0, step = 10301 (0.330 sec)\n",
      "INFO:tensorflow:global_step/sec: 279.505\n",
      "INFO:tensorflow:loss = 81416045000.0, step = 10401 (0.344 sec)\n",
      "INFO:tensorflow:global_step/sec: 323.45\n",
      "INFO:tensorflow:loss = 84824695000.0, step = 10501 (0.322 sec)\n",
      "INFO:tensorflow:global_step/sec: 299.938\n",
      "INFO:tensorflow:loss = 62518590000.0, step = 10601 (0.317 sec)\n",
      "INFO:tensorflow:global_step/sec: 292.82\n",
      "INFO:tensorflow:loss = 166588800000.0, step = 10701 (0.349 sec)\n",
      "INFO:tensorflow:global_step/sec: 310.477\n",
      "INFO:tensorflow:loss = 98946890000.0, step = 10801 (0.318 sec)\n",
      "INFO:tensorflow:global_step/sec: 290.682\n",
      "INFO:tensorflow:loss = 64267580000.0, step = 10901 (0.349 sec)\n",
      "INFO:tensorflow:global_step/sec: 303.009\n",
      "INFO:tensorflow:loss = 68085604000.0, step = 11001 (0.329 sec)\n",
      "INFO:tensorflow:global_step/sec: 296.171\n",
      "INFO:tensorflow:loss = 152654380000.0, step = 11101 (0.333 sec)\n",
      "INFO:tensorflow:global_step/sec: 303.409\n",
      "INFO:tensorflow:loss = 103183010000.0, step = 11201 (0.344 sec)\n",
      "INFO:tensorflow:global_step/sec: 290.14\n",
      "INFO:tensorflow:loss = 113612780000.0, step = 11301 (0.344 sec)\n",
      "INFO:tensorflow:global_step/sec: 301.878\n",
      "INFO:tensorflow:loss = 49426040000.0, step = 11401 (0.332 sec)\n",
      "INFO:tensorflow:global_step/sec: 298.962\n",
      "INFO:tensorflow:loss = 33108960000.0, step = 11501 (0.325 sec)\n",
      "INFO:tensorflow:global_step/sec: 300.687\n",
      "INFO:tensorflow:loss = 66130813000.0, step = 11601 (0.325 sec)\n",
      "INFO:tensorflow:global_step/sec: 331.568\n",
      "INFO:tensorflow:loss = 103091620000.0, step = 11701 (0.318 sec)\n",
      "INFO:tensorflow:global_step/sec: 317.27\n",
      "INFO:tensorflow:loss = 117077800000.0, step = 11801 (0.298 sec)\n",
      "INFO:tensorflow:global_step/sec: 333.765\n",
      "INFO:tensorflow:loss = 65052920000.0, step = 11901 (0.315 sec)\n",
      "INFO:tensorflow:global_step/sec: 257.898\n",
      "INFO:tensorflow:loss = 91661510000.0, step = 12001 (0.380 sec)\n",
      "INFO:tensorflow:global_step/sec: 288.976\n",
      "INFO:tensorflow:loss = 81894760000.0, step = 12101 (0.339 sec)\n",
      "INFO:tensorflow:global_step/sec: 316.834\n",
      "INFO:tensorflow:loss = 102339265000.0, step = 12201 (0.316 sec)\n",
      "INFO:tensorflow:global_step/sec: 315.452\n",
      "INFO:tensorflow:loss = 81189380000.0, step = 12301 (0.340 sec)\n",
      "INFO:tensorflow:global_step/sec: 299.316\n",
      "INFO:tensorflow:loss = 67213496000.0, step = 12401 (0.311 sec)\n",
      "INFO:tensorflow:global_step/sec: 309.816\n",
      "INFO:tensorflow:loss = 29137162000.0, step = 12501 (0.323 sec)\n",
      "INFO:tensorflow:global_step/sec: 304.604\n",
      "INFO:tensorflow:loss = 146107320000.0, step = 12601 (0.335 sec)\n",
      "INFO:tensorflow:global_step/sec: 301.464\n",
      "INFO:tensorflow:loss = 96900180000.0, step = 12701 (0.344 sec)\n",
      "INFO:tensorflow:global_step/sec: 301.076\n",
      "INFO:tensorflow:loss = 45379035000.0, step = 12801 (0.315 sec)\n",
      "INFO:tensorflow:global_step/sec: 315.063\n",
      "INFO:tensorflow:loss = 94535310000.0, step = 12901 (0.315 sec)\n",
      "INFO:tensorflow:global_step/sec: 309.633\n",
      "INFO:tensorflow:loss = 94707140000.0, step = 13001 (0.332 sec)\n",
      "INFO:tensorflow:global_step/sec: 301.525\n",
      "INFO:tensorflow:loss = 49756643000.0, step = 13101 (0.323 sec)\n",
      "INFO:tensorflow:global_step/sec: 287.981\n",
      "INFO:tensorflow:loss = 125753100000.0, step = 13201 (0.349 sec)\n",
      "INFO:tensorflow:global_step/sec: 286.47\n",
      "INFO:tensorflow:loss = 40717128000.0, step = 13301 (0.347 sec)\n",
      "INFO:tensorflow:global_step/sec: 299.06\n",
      "INFO:tensorflow:loss = 118012715000.0, step = 13401 (0.334 sec)\n",
      "INFO:tensorflow:global_step/sec: 287.408\n",
      "INFO:tensorflow:loss = 36503687000.0, step = 13501 (0.363 sec)\n",
      "INFO:tensorflow:global_step/sec: 301.152\n",
      "INFO:tensorflow:loss = 81191980000.0, step = 13601 (0.323 sec)\n",
      "INFO:tensorflow:global_step/sec: 314.157\n",
      "INFO:tensorflow:loss = 52332843000.0, step = 13701 (0.328 sec)\n",
      "INFO:tensorflow:global_step/sec: 303.251\n",
      "INFO:tensorflow:loss = 63433015000.0, step = 13801 (0.321 sec)\n",
      "INFO:tensorflow:global_step/sec: 329.941\n",
      "INFO:tensorflow:loss = 77796230000.0, step = 13901 (0.312 sec)\n",
      "INFO:tensorflow:global_step/sec: 300.601\n",
      "INFO:tensorflow:loss = 50918007000.0, step = 14001 (0.331 sec)\n",
      "INFO:tensorflow:global_step/sec: 316.682\n",
      "INFO:tensorflow:loss = 137185080000.0, step = 14101 (0.301 sec)\n",
      "INFO:tensorflow:global_step/sec: 317.659\n",
      "INFO:tensorflow:loss = 79471200000.0, step = 14201 (0.325 sec)\n",
      "INFO:tensorflow:global_step/sec: 296.601\n",
      "INFO:tensorflow:loss = 57219015000.0, step = 14301 (0.343 sec)\n",
      "INFO:tensorflow:global_step/sec: 317.378\n",
      "INFO:tensorflow:loss = 72697405000.0, step = 14401 (0.299 sec)\n",
      "INFO:tensorflow:global_step/sec: 317.419\n",
      "INFO:tensorflow:loss = 80524160000.0, step = 14501 (0.330 sec)\n",
      "INFO:tensorflow:global_step/sec: 314.868\n",
      "INFO:tensorflow:loss = 39467074000.0, step = 14601 (0.318 sec)\n",
      "INFO:tensorflow:global_step/sec: 300.931\n",
      "INFO:tensorflow:loss = 196788300000.0, step = 14701 (0.317 sec)\n",
      "INFO:tensorflow:global_step/sec: 306.859\n",
      "INFO:tensorflow:loss = 203296310000.0, step = 14801 (0.326 sec)\n",
      "INFO:tensorflow:global_step/sec: 326.803\n",
      "INFO:tensorflow:loss = 81080885000.0, step = 14901 (0.307 sec)\n",
      "INFO:tensorflow:global_step/sec: 308.53\n",
      "INFO:tensorflow:loss = 131386520000.0, step = 15001 (0.339 sec)\n",
      "INFO:tensorflow:global_step/sec: 290.324\n",
      "INFO:tensorflow:loss = 133204250000.0, step = 15101 (0.328 sec)\n",
      "INFO:tensorflow:global_step/sec: 296.771\n",
      "INFO:tensorflow:loss = 81707885000.0, step = 15201 (0.337 sec)\n",
      "INFO:tensorflow:global_step/sec: 319.15\n",
      "INFO:tensorflow:loss = 92455174000.0, step = 15301 (0.328 sec)\n",
      "INFO:tensorflow:global_step/sec: 316.652\n",
      "INFO:tensorflow:loss = 125902620000.0, step = 15401 (0.322 sec)\n",
      "INFO:tensorflow:global_step/sec: 303.499\n",
      "INFO:tensorflow:loss = 75310520000.0, step = 15501 (0.318 sec)\n",
      "INFO:tensorflow:global_step/sec: 308.609\n",
      "INFO:tensorflow:loss = 196695600000.0, step = 15601 (0.326 sec)\n",
      "INFO:tensorflow:global_step/sec: 317.748\n",
      "INFO:tensorflow:loss = 99311804000.0, step = 15701 (0.319 sec)\n",
      "INFO:tensorflow:global_step/sec: 296.573\n",
      "INFO:tensorflow:loss = 116152470000.0, step = 15801 (0.323 sec)\n",
      "INFO:tensorflow:global_step/sec: 305.864\n",
      "INFO:tensorflow:loss = 41158220000.0, step = 15901 (0.344 sec)\n",
      "INFO:tensorflow:global_step/sec: 317.058\n",
      "INFO:tensorflow:loss = 200908400000.0, step = 16001 (0.298 sec)\n",
      "INFO:tensorflow:global_step/sec: 315.86\n",
      "INFO:tensorflow:loss = 37701837000.0, step = 16101 (0.333 sec)\n",
      "INFO:tensorflow:global_step/sec: 333.747\n",
      "INFO:tensorflow:loss = 97735066000.0, step = 16201 (0.305 sec)\n",
      "INFO:tensorflow:global_step/sec: 300.341\n",
      "INFO:tensorflow:loss = 108682990000.0, step = 16301 (0.312 sec)\n",
      "INFO:tensorflow:global_step/sec: 317.623\n",
      "INFO:tensorflow:loss = 153622920000.0, step = 16401 (0.314 sec)\n",
      "INFO:tensorflow:global_step/sec: 330.929\n",
      "INFO:tensorflow:loss = 134284214000.0, step = 16501 (0.302 sec)\n",
      "INFO:tensorflow:global_step/sec: 315.123\n",
      "INFO:tensorflow:loss = 95905870000.0, step = 16601 (0.338 sec)\n",
      "INFO:tensorflow:global_step/sec: 300.072\n",
      "INFO:tensorflow:loss = 146432030000.0, step = 16701 (0.329 sec)\n",
      "INFO:tensorflow:global_step/sec: 316.976\n",
      "INFO:tensorflow:loss = 47476593000.0, step = 16801 (0.299 sec)\n",
      "INFO:tensorflow:global_step/sec: 315.602\n",
      "INFO:tensorflow:loss = 28401762000.0, step = 16901 (0.318 sec)\n",
      "INFO:tensorflow:global_step/sec: 286.246\n",
      "INFO:tensorflow:loss = 147219710000.0, step = 17001 (0.348 sec)\n",
      "INFO:tensorflow:global_step/sec: 330.671\n",
      "INFO:tensorflow:loss = 230648100000.0, step = 17101 (0.325 sec)\n",
      "INFO:tensorflow:global_step/sec: 301.299\n",
      "INFO:tensorflow:loss = 45463245000.0, step = 17201 (0.309 sec)\n",
      "INFO:tensorflow:global_step/sec: 334.073\n",
      "INFO:tensorflow:loss = 97472230000.0, step = 17301 (0.326 sec)\n",
      "INFO:tensorflow:global_step/sec: 299.018\n",
      "INFO:tensorflow:loss = 130954674000.0, step = 17401 (0.308 sec)\n",
      "INFO:tensorflow:global_step/sec: 300.215\n",
      "INFO:tensorflow:loss = 108100370000.0, step = 17501 (0.333 sec)\n",
      "INFO:tensorflow:global_step/sec: 301.795\n",
      "INFO:tensorflow:loss = 183893500000.0, step = 17601 (0.331 sec)\n",
      "INFO:tensorflow:global_step/sec: 329.768\n",
      "INFO:tensorflow:loss = 85816020000.0, step = 17701 (0.321 sec)\n",
      "INFO:tensorflow:global_step/sec: 320.037\n",
      "INFO:tensorflow:loss = 86452314000.0, step = 17801 (0.294 sec)\n",
      "INFO:tensorflow:global_step/sec: 284.107\n",
      "INFO:tensorflow:loss = 80336450000.0, step = 17901 (0.352 sec)\n",
      "INFO:tensorflow:global_step/sec: 316.456\n",
      "INFO:tensorflow:loss = 52425780000.0, step = 18001 (0.339 sec)\n",
      "INFO:tensorflow:global_step/sec: 284.91\n",
      "INFO:tensorflow:loss = 177886970000.0, step = 18101 (0.344 sec)\n",
      "INFO:tensorflow:global_step/sec: 286.596\n",
      "INFO:tensorflow:loss = 50354380000.0, step = 18201 (0.333 sec)\n",
      "INFO:tensorflow:global_step/sec: 317.175\n",
      "INFO:tensorflow:loss = 150202740000.0, step = 18301 (0.322 sec)\n",
      "INFO:tensorflow:global_step/sec: 299.968\n",
      "INFO:tensorflow:loss = 94874214000.0, step = 18401 (0.343 sec)\n",
      "INFO:tensorflow:global_step/sec: 299.029\n",
      "INFO:tensorflow:loss = 56728404000.0, step = 18501 (0.319 sec)\n",
      "INFO:tensorflow:global_step/sec: 301.926\n",
      "INFO:tensorflow:loss = 205156450000.0, step = 18601 (0.337 sec)\n",
      "INFO:tensorflow:global_step/sec: 259.74\n",
      "INFO:tensorflow:loss = 154323120000.0, step = 18701 (0.379 sec)\n",
      "INFO:tensorflow:global_step/sec: 286.872\n",
      "INFO:tensorflow:loss = 70578790000.0, step = 18801 (0.349 sec)\n",
      "INFO:tensorflow:global_step/sec: 311.805\n",
      "INFO:tensorflow:loss = 149813700000.0, step = 18901 (0.321 sec)\n",
      "INFO:tensorflow:global_step/sec: 303.81\n",
      "INFO:tensorflow:loss = 136047346000.0, step = 19001 (0.329 sec)\n",
      "INFO:tensorflow:global_step/sec: 331.98\n",
      "INFO:tensorflow:loss = 128831545000.0, step = 19101 (0.318 sec)\n",
      "INFO:tensorflow:global_step/sec: 300.382\n",
      "INFO:tensorflow:loss = 97218400000.0, step = 19201 (0.332 sec)\n",
      "INFO:tensorflow:global_step/sec: 333.534\n",
      "INFO:tensorflow:loss = 31117206000.0, step = 19301 (0.301 sec)\n",
      "INFO:tensorflow:global_step/sec: 318.089\n",
      "INFO:tensorflow:loss = 140956750000.0, step = 19401 (0.301 sec)\n",
      "INFO:tensorflow:global_step/sec: 313.7\n",
      "INFO:tensorflow:loss = 147167310000.0, step = 19501 (0.331 sec)\n",
      "INFO:tensorflow:global_step/sec: 300.003\n",
      "INFO:tensorflow:loss = 137559740000.0, step = 19601 (0.320 sec)\n",
      "INFO:tensorflow:global_step/sec: 317.116\n",
      "INFO:tensorflow:loss = 113357810000.0, step = 19701 (0.313 sec)\n",
      "INFO:tensorflow:global_step/sec: 316.939\n",
      "INFO:tensorflow:loss = 75915340000.0, step = 19801 (0.331 sec)\n",
      "INFO:tensorflow:global_step/sec: 299.126\n",
      "INFO:tensorflow:loss = 250115960000.0, step = 19901 (0.319 sec)\n",
      "INFO:tensorflow:Saving checkpoints for 20000 into C:\\Users\\dilet\\AppData\\Local\\Temp\\tmp3r1tsfkz\\model.ckpt.\n",
      "INFO:tensorflow:Loss for final step: 72675020000.0.\n"
     ]
    },
    {
     "data": {
      "text/plain": [
       "<tensorflow_estimator.python.estimator.canned.dnn.DNNRegressor at 0x220fc3a9b48>"
      ]
     },
     "execution_count": 19,
     "metadata": {},
     "output_type": "execute_result"
    }
   ],
   "source": [
    "model.train(input_fn=input_func,steps=20000)"
   ]
  },
  {
   "cell_type": "markdown",
   "metadata": {},
   "source": [
    "** Create a prediction input function and then use the .predict method off your estimator model to create a list or predictions on your test data. **"
   ]
  },
  {
   "cell_type": "code",
   "execution_count": 20,
   "metadata": {},
   "outputs": [],
   "source": [
    "predict_input_func = tf.estimator.inputs.pandas_input_fn(\n",
    "      x=X_test,\n",
    "      batch_size=10,\n",
    "      num_epochs=1,\n",
    "      shuffle=False)"
   ]
  },
  {
   "cell_type": "code",
   "execution_count": 21,
   "metadata": {},
   "outputs": [],
   "source": [
    "pred_gen = model.predict(predict_input_func)"
   ]
  },
  {
   "cell_type": "code",
   "execution_count": 22,
   "metadata": {},
   "outputs": [
    {
     "name": "stdout",
     "output_type": "stream",
     "text": [
      "INFO:tensorflow:Calling model_fn.\n",
      "INFO:tensorflow:Done calling model_fn.\n",
      "INFO:tensorflow:Graph was finalized.\n",
      "INFO:tensorflow:Restoring parameters from C:\\Users\\dilet\\AppData\\Local\\Temp\\tmp3r1tsfkz\\model.ckpt-20000\n",
      "INFO:tensorflow:Running local_init_op.\n",
      "INFO:tensorflow:Done running local_init_op.\n"
     ]
    }
   ],
   "source": [
    "predictions = list(pred_gen)"
   ]
  },
  {
   "cell_type": "markdown",
   "metadata": {},
   "source": [
    "** Calculate the RMSE. You should be able to get around 100,000 RMSE (remember that this is in the same units as the label.) Do this manually or use [sklearn.metrics](http://scikit-learn.org/stable/modules/generated/sklearn.metrics.mean_squared_error.html) **"
   ]
  },
  {
   "cell_type": "code",
   "execution_count": 23,
   "metadata": {},
   "outputs": [],
   "source": [
    "final_preds = []\n",
    "for pred in predictions:\n",
    "    final_preds.append(pred['predictions'])"
   ]
  },
  {
   "cell_type": "code",
   "execution_count": 24,
   "metadata": {},
   "outputs": [],
   "source": [
    "from sklearn.metrics import mean_squared_error"
   ]
  },
  {
   "cell_type": "code",
   "execution_count": 25,
   "metadata": {},
   "outputs": [
    {
     "data": {
      "text/plain": [
       "102211.92118145904"
      ]
     },
     "execution_count": 25,
     "metadata": {},
     "output_type": "execute_result"
    }
   ],
   "source": [
    "mean_squared_error(y_test,final_preds)**0.5"
   ]
  },
  {
   "cell_type": "markdown",
   "metadata": {},
   "source": [
    "# Great Job!"
   ]
  }
 ],
 "metadata": {
  "kernelspec": {
   "display_name": "dl_13",
   "language": "python",
   "name": "dl_13"
  },
  "language_info": {
   "codemirror_mode": {
    "name": "ipython",
    "version": 3
   },
   "file_extension": ".py",
   "mimetype": "text/x-python",
   "name": "python",
   "nbconvert_exporter": "python",
   "pygments_lexer": "ipython3",
   "version": "3.7.4"
  }
 },
 "nbformat": 4,
 "nbformat_minor": 4
}
